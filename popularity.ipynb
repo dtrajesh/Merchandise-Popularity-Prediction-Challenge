{
 "cells": [
  {
   "cell_type": "markdown",
   "metadata": {},
   "source": [
    "# Problem Statement"
   ]
  },
  {
   "cell_type": "markdown",
   "metadata": {},
   "source": [
    "In this competition provided the data gathered from one of the top apparel brands in India. Provided the details concerning category, score, and presence in the store,we are challenged  to come up with a Classification algorithm to predict the popularity level of the merchandise."
   ]
  },
  {
   "cell_type": "markdown",
   "metadata": {},
   "source": [
    "Source data: https://www.machinehack.com/hackathons/merchandise_popularity_prediction_challenge/overview"
   ]
  },
  {
   "cell_type": "markdown",
   "metadata": {},
   "source": [
    "# Performane Metrics Used"
   ]
  },
  {
   "cell_type": "markdown",
   "metadata": {},
   "source": [
    "1.Confusion Matrix\n",
    "\n",
    "2.Log Loss"
   ]
  },
  {
   "cell_type": "code",
   "execution_count": 1,
   "metadata": {},
   "outputs": [],
   "source": [
    "import numpy as np\n",
    "import pandas as pd\n",
    "import matplotlib.pyplot as plt\n",
    "import seaborn as sns\n",
    "from sklearn.linear_model import SGDClassifier\n",
    "from sklearn.neighbors import KNeighborsClassifier\n",
    "from sklearn.tree import DecisionTreeClassifier\n",
    "from sklearn.ensemble import RandomForestClassifier\n",
    "from sklearn.preprocessing import LabelEncoder,StandardScaler,MinMaxScaler,OneHotEncoder\n",
    "from sklearn import metrics\n",
    "from sklearn.metrics import log_loss,confusion_matrix\n",
    "import warnings\n",
    "warnings.filterwarnings(\"ignore\")\n",
    "from sklearn.model_selection import train_test_split\n",
    "import optuna\n",
    "from sklearn.calibration import CalibratedClassifierCV \n",
    "from sklearn.svm import SVC\n",
    "from sklearn.naive_bayes import GaussianNB,MultinomialNB,CategoricalNB,ComplementNB\n",
    "from sklearn.neighbors import KNeighborsClassifier\n",
    "from sklearn.tree import DecisionTreeClassifier\n",
    "import xgboost as xgb"
   ]
  },
  {
   "cell_type": "code",
   "execution_count": 31,
   "metadata": {},
   "outputs": [
    {
     "name": "stdout",
     "output_type": "stream",
     "text": [
      "total number of rows : 18208\n",
      "columns list : ['Store_Ratio' 'Basket_Ratio' 'Category_1' 'Store_Score' 'Category_2'\n",
      " 'Store_Presence' 'Score_1' 'Score_2' 'Score_3' 'Score_4' 'time'\n",
      " 'popularity']\n"
     ]
    },
    {
     "data": {
      "text/html": [
       "<div>\n",
       "<style scoped>\n",
       "    .dataframe tbody tr th:only-of-type {\n",
       "        vertical-align: middle;\n",
       "    }\n",
       "\n",
       "    .dataframe tbody tr th {\n",
       "        vertical-align: top;\n",
       "    }\n",
       "\n",
       "    .dataframe thead th {\n",
       "        text-align: right;\n",
       "    }\n",
       "</style>\n",
       "<table border=\"1\" class=\"dataframe\">\n",
       "  <thead>\n",
       "    <tr style=\"text-align: right;\">\n",
       "      <th></th>\n",
       "      <th>Store_Ratio</th>\n",
       "      <th>Basket_Ratio</th>\n",
       "      <th>Category_1</th>\n",
       "      <th>Store_Score</th>\n",
       "      <th>Category_2</th>\n",
       "      <th>Store_Presence</th>\n",
       "      <th>Score_1</th>\n",
       "      <th>Score_2</th>\n",
       "      <th>Score_3</th>\n",
       "      <th>Score_4</th>\n",
       "      <th>time</th>\n",
       "      <th>popularity</th>\n",
       "    </tr>\n",
       "  </thead>\n",
       "  <tbody>\n",
       "    <tr>\n",
       "      <th>0</th>\n",
       "      <td>0.407</td>\n",
       "      <td>0.00380</td>\n",
       "      <td>2</td>\n",
       "      <td>-35.865</td>\n",
       "      <td>1</td>\n",
       "      <td>0.9920</td>\n",
       "      <td>0.94400</td>\n",
       "      <td>0.0988</td>\n",
       "      <td>0.1100</td>\n",
       "      <td>113.911</td>\n",
       "      <td>189125</td>\n",
       "      <td>4</td>\n",
       "    </tr>\n",
       "    <tr>\n",
       "      <th>1</th>\n",
       "      <td>0.234</td>\n",
       "      <td>0.10500</td>\n",
       "      <td>0</td>\n",
       "      <td>-19.884</td>\n",
       "      <td>1</td>\n",
       "      <td>0.9440</td>\n",
       "      <td>0.90000</td>\n",
       "      <td>0.1290</td>\n",
       "      <td>0.0382</td>\n",
       "      <td>76.332</td>\n",
       "      <td>186513</td>\n",
       "      <td>4</td>\n",
       "    </tr>\n",
       "    <tr>\n",
       "      <th>2</th>\n",
       "      <td>0.668</td>\n",
       "      <td>0.72600</td>\n",
       "      <td>9</td>\n",
       "      <td>-7.512</td>\n",
       "      <td>1</td>\n",
       "      <td>0.0387</td>\n",
       "      <td>0.00000</td>\n",
       "      <td>0.1340</td>\n",
       "      <td>0.4530</td>\n",
       "      <td>124.075</td>\n",
       "      <td>172143</td>\n",
       "      <td>4</td>\n",
       "    </tr>\n",
       "    <tr>\n",
       "      <th>3</th>\n",
       "      <td>0.184</td>\n",
       "      <td>0.00561</td>\n",
       "      <td>4</td>\n",
       "      <td>-34.357</td>\n",
       "      <td>1</td>\n",
       "      <td>0.8490</td>\n",
       "      <td>0.93100</td>\n",
       "      <td>0.1110</td>\n",
       "      <td>0.0641</td>\n",
       "      <td>79.037</td>\n",
       "      <td>184000</td>\n",
       "      <td>5</td>\n",
       "    </tr>\n",
       "    <tr>\n",
       "      <th>4</th>\n",
       "      <td>0.231</td>\n",
       "      <td>0.13100</td>\n",
       "      <td>6</td>\n",
       "      <td>-22.842</td>\n",
       "      <td>1</td>\n",
       "      <td>0.9370</td>\n",
       "      <td>0.00000</td>\n",
       "      <td>0.1090</td>\n",
       "      <td>0.0677</td>\n",
       "      <td>109.560</td>\n",
       "      <td>186507</td>\n",
       "      <td>3</td>\n",
       "    </tr>\n",
       "    <tr>\n",
       "      <th>5</th>\n",
       "      <td>0.756</td>\n",
       "      <td>0.60900</td>\n",
       "      <td>3</td>\n",
       "      <td>-7.927</td>\n",
       "      <td>1</td>\n",
       "      <td>0.2170</td>\n",
       "      <td>0.00474</td>\n",
       "      <td>0.0960</td>\n",
       "      <td>0.5370</td>\n",
       "      <td>117.023</td>\n",
       "      <td>155720</td>\n",
       "      <td>4</td>\n",
       "    </tr>\n",
       "    <tr>\n",
       "      <th>6</th>\n",
       "      <td>0.398</td>\n",
       "      <td>0.03360</td>\n",
       "      <td>10</td>\n",
       "      <td>-30.369</td>\n",
       "      <td>1</td>\n",
       "      <td>0.9960</td>\n",
       "      <td>0.96200</td>\n",
       "      <td>0.1300</td>\n",
       "      <td>0.6120</td>\n",
       "      <td>72.166</td>\n",
       "      <td>134500</td>\n",
       "      <td>4</td>\n",
       "    </tr>\n",
       "    <tr>\n",
       "      <th>7</th>\n",
       "      <td>0.717</td>\n",
       "      <td>0.69900</td>\n",
       "      <td>5</td>\n",
       "      <td>-5.665</td>\n",
       "      <td>0</td>\n",
       "      <td>0.2230</td>\n",
       "      <td>0.00000</td>\n",
       "      <td>0.1390</td>\n",
       "      <td>0.6890</td>\n",
       "      <td>100.147</td>\n",
       "      <td>186600</td>\n",
       "      <td>4</td>\n",
       "    </tr>\n",
       "    <tr>\n",
       "      <th>8</th>\n",
       "      <td>0.419</td>\n",
       "      <td>0.57400</td>\n",
       "      <td>4</td>\n",
       "      <td>-12.221</td>\n",
       "      <td>0</td>\n",
       "      <td>0.1020</td>\n",
       "      <td>0.46200</td>\n",
       "      <td>0.8950</td>\n",
       "      <td>0.3450</td>\n",
       "      <td>129.260</td>\n",
       "      <td>685880</td>\n",
       "      <td>4</td>\n",
       "    </tr>\n",
       "    <tr>\n",
       "      <th>9</th>\n",
       "      <td>0.705</td>\n",
       "      <td>0.22100</td>\n",
       "      <td>3</td>\n",
       "      <td>-11.474</td>\n",
       "      <td>0</td>\n",
       "      <td>0.9380</td>\n",
       "      <td>0.90600</td>\n",
       "      <td>0.1110</td>\n",
       "      <td>0.3840</td>\n",
       "      <td>84.962</td>\n",
       "      <td>143131</td>\n",
       "      <td>4</td>\n",
       "    </tr>\n",
       "  </tbody>\n",
       "</table>\n",
       "</div>"
      ],
      "text/plain": [
       "   Store_Ratio  Basket_Ratio  Category_1  Store_Score  Category_2  \\\n",
       "0        0.407       0.00380           2      -35.865           1   \n",
       "1        0.234       0.10500           0      -19.884           1   \n",
       "2        0.668       0.72600           9       -7.512           1   \n",
       "3        0.184       0.00561           4      -34.357           1   \n",
       "4        0.231       0.13100           6      -22.842           1   \n",
       "5        0.756       0.60900           3       -7.927           1   \n",
       "6        0.398       0.03360          10      -30.369           1   \n",
       "7        0.717       0.69900           5       -5.665           0   \n",
       "8        0.419       0.57400           4      -12.221           0   \n",
       "9        0.705       0.22100           3      -11.474           0   \n",
       "\n",
       "   Store_Presence  Score_1  Score_2  Score_3  Score_4    time  popularity  \n",
       "0          0.9920  0.94400   0.0988   0.1100  113.911  189125           4  \n",
       "1          0.9440  0.90000   0.1290   0.0382   76.332  186513           4  \n",
       "2          0.0387  0.00000   0.1340   0.4530  124.075  172143           4  \n",
       "3          0.8490  0.93100   0.1110   0.0641   79.037  184000           5  \n",
       "4          0.9370  0.00000   0.1090   0.0677  109.560  186507           3  \n",
       "5          0.2170  0.00474   0.0960   0.5370  117.023  155720           4  \n",
       "6          0.9960  0.96200   0.1300   0.6120   72.166  134500           4  \n",
       "7          0.2230  0.00000   0.1390   0.6890  100.147  186600           4  \n",
       "8          0.1020  0.46200   0.8950   0.3450  129.260  685880           4  \n",
       "9          0.9380  0.90600   0.1110   0.3840   84.962  143131           4  "
      ]
     },
     "execution_count": 31,
     "metadata": {},
     "output_type": "execute_result"
    }
   ],
   "source": [
    "#reading the data \n",
    "train=pd.read_csv(\"popularity/Train.csv\")\n",
    "print(\"total number of rows :\",train.shape[0])\n",
    "print(\"columns list :\",train.columns.values)\n",
    "train.head(10)"
   ]
  },
  {
   "cell_type": "code",
   "execution_count": 4,
   "metadata": {},
   "outputs": [
    {
     "name": "stdout",
     "output_type": "stream",
     "text": [
      "<class 'pandas.core.frame.DataFrame'>\n",
      "RangeIndex: 18208 entries, 0 to 18207\n",
      "Data columns (total 12 columns):\n",
      " #   Column          Non-Null Count  Dtype  \n",
      "---  ------          --------------  -----  \n",
      " 0   Store_Ratio     18208 non-null  float64\n",
      " 1   Basket_Ratio    18208 non-null  float64\n",
      " 2   Category_1      18208 non-null  int64  \n",
      " 3   Store_Score     18208 non-null  float64\n",
      " 4   Category_2      18208 non-null  int64  \n",
      " 5   Store_Presence  18208 non-null  float64\n",
      " 6   Score_1         18208 non-null  float64\n",
      " 7   Score_2         18208 non-null  float64\n",
      " 8   Score_3         18208 non-null  float64\n",
      " 9   Score_4         18208 non-null  float64\n",
      " 10  time            18208 non-null  int64  \n",
      " 11  popularity      18208 non-null  int64  \n",
      "dtypes: float64(8), int64(4)\n",
      "memory usage: 1.7 MB\n"
     ]
    }
   ],
   "source": [
    "#checking for null values\n",
    "train.info()"
   ]
  },
  {
   "cell_type": "markdown",
   "metadata": {},
   "source": [
    "There are no null values"
   ]
  },
  {
   "cell_type": "code",
   "execution_count": 4,
   "metadata": {},
   "outputs": [
    {
     "data": {
      "text/plain": [
       "12"
      ]
     },
     "execution_count": 4,
     "metadata": {},
     "output_type": "execute_result"
    }
   ],
   "source": [
    "len(train[\"Category_1\"].value_counts())"
   ]
  },
  {
   "cell_type": "markdown",
   "metadata": {},
   "source": [
    "there are 12 unique values in Category_1"
   ]
  },
  {
   "cell_type": "code",
   "execution_count": 6,
   "metadata": {},
   "outputs": [
    {
     "data": {
      "text/plain": [
       "1    11808\n",
       "0     6400\n",
       "Name: Category_2, dtype: int64"
      ]
     },
     "execution_count": 6,
     "metadata": {},
     "output_type": "execute_result"
    }
   ],
   "source": [
    "train[\"Category_2\"].value_counts()"
   ]
  },
  {
   "cell_type": "code",
   "execution_count": 7,
   "metadata": {},
   "outputs": [
    {
     "data": {
      "text/plain": [
       "4    15231\n",
       "3     2166\n",
       "5      472\n",
       "1      323\n",
       "0       16\n",
       "Name: popularity, dtype: int64"
      ]
     },
     "execution_count": 7,
     "metadata": {},
     "output_type": "execute_result"
    }
   ],
   "source": [
    "train[\"popularity\"].value_counts()"
   ]
  },
  {
   "cell_type": "markdown",
   "metadata": {},
   "source": [
    "This is an imbalanced dataset\n"
   ]
  },
  {
   "cell_type": "code",
   "execution_count": 3,
   "metadata": {},
   "outputs": [
    {
     "data": {
      "text/html": [
       "<div>\n",
       "<style scoped>\n",
       "    .dataframe tbody tr th:only-of-type {\n",
       "        vertical-align: middle;\n",
       "    }\n",
       "\n",
       "    .dataframe tbody tr th {\n",
       "        vertical-align: top;\n",
       "    }\n",
       "\n",
       "    .dataframe thead th {\n",
       "        text-align: right;\n",
       "    }\n",
       "</style>\n",
       "<table border=\"1\" class=\"dataframe\">\n",
       "  <thead>\n",
       "    <tr style=\"text-align: right;\">\n",
       "      <th></th>\n",
       "      <th>Store_Ratio</th>\n",
       "      <th>Basket_Ratio</th>\n",
       "      <th>Category_1</th>\n",
       "      <th>Store_Score</th>\n",
       "      <th>Category_2</th>\n",
       "      <th>Store_Presence</th>\n",
       "      <th>Score_1</th>\n",
       "      <th>Score_2</th>\n",
       "      <th>Score_3</th>\n",
       "      <th>Score_4</th>\n",
       "      <th>time</th>\n",
       "      <th>popularity</th>\n",
       "    </tr>\n",
       "  </thead>\n",
       "  <tbody>\n",
       "    <tr>\n",
       "      <th>Store_Ratio</th>\n",
       "      <td>1.000000</td>\n",
       "      <td>0.465598</td>\n",
       "      <td>0.040335</td>\n",
       "      <td>0.599820</td>\n",
       "      <td>-0.102391</td>\n",
       "      <td>-0.471475</td>\n",
       "      <td>-0.454113</td>\n",
       "      <td>-0.039416</td>\n",
       "      <td>0.620874</td>\n",
       "      <td>0.119472</td>\n",
       "      <td>-0.063763</td>\n",
       "      <td>0.232888</td>\n",
       "    </tr>\n",
       "    <tr>\n",
       "      <th>Basket_Ratio</th>\n",
       "      <td>0.465598</td>\n",
       "      <td>1.000000</td>\n",
       "      <td>0.051739</td>\n",
       "      <td>0.826055</td>\n",
       "      <td>-0.114843</td>\n",
       "      <td>-0.821807</td>\n",
       "      <td>-0.612220</td>\n",
       "      <td>0.275749</td>\n",
       "      <td>0.527086</td>\n",
       "      <td>0.253789</td>\n",
       "      <td>0.101478</td>\n",
       "      <td>0.200988</td>\n",
       "    </tr>\n",
       "    <tr>\n",
       "      <th>Category_1</th>\n",
       "      <td>0.040335</td>\n",
       "      <td>0.051739</td>\n",
       "      <td>1.000000</td>\n",
       "      <td>0.042988</td>\n",
       "      <td>-0.139914</td>\n",
       "      <td>-0.046474</td>\n",
       "      <td>-0.028973</td>\n",
       "      <td>0.019738</td>\n",
       "      <td>0.036477</td>\n",
       "      <td>0.003057</td>\n",
       "      <td>-0.012886</td>\n",
       "      <td>0.003716</td>\n",
       "    </tr>\n",
       "    <tr>\n",
       "      <th>Store_Score</th>\n",
       "      <td>0.599820</td>\n",
       "      <td>0.826055</td>\n",
       "      <td>0.042988</td>\n",
       "      <td>1.000000</td>\n",
       "      <td>-0.085984</td>\n",
       "      <td>-0.723449</td>\n",
       "      <td>-0.726385</td>\n",
       "      <td>0.145093</td>\n",
       "      <td>0.516937</td>\n",
       "      <td>0.263739</td>\n",
       "      <td>0.080659</td>\n",
       "      <td>0.204896</td>\n",
       "    </tr>\n",
       "    <tr>\n",
       "      <th>Category_2</th>\n",
       "      <td>-0.102391</td>\n",
       "      <td>-0.114843</td>\n",
       "      <td>-0.139914</td>\n",
       "      <td>-0.085984</td>\n",
       "      <td>1.000000</td>\n",
       "      <td>0.104456</td>\n",
       "      <td>0.020086</td>\n",
       "      <td>-0.036357</td>\n",
       "      <td>-0.043944</td>\n",
       "      <td>-0.046058</td>\n",
       "      <td>-0.009798</td>\n",
       "      <td>-0.034565</td>\n",
       "    </tr>\n",
       "    <tr>\n",
       "      <th>Store_Presence</th>\n",
       "      <td>-0.471475</td>\n",
       "      <td>-0.821807</td>\n",
       "      <td>-0.046474</td>\n",
       "      <td>-0.723449</td>\n",
       "      <td>0.104456</td>\n",
       "      <td>1.000000</td>\n",
       "      <td>0.571346</td>\n",
       "      <td>-0.190961</td>\n",
       "      <td>-0.431723</td>\n",
       "      <td>-0.222663</td>\n",
       "      <td>-0.072484</td>\n",
       "      <td>-0.195113</td>\n",
       "    </tr>\n",
       "    <tr>\n",
       "      <th>Score_1</th>\n",
       "      <td>-0.454113</td>\n",
       "      <td>-0.612220</td>\n",
       "      <td>-0.028973</td>\n",
       "      <td>-0.726385</td>\n",
       "      <td>0.020086</td>\n",
       "      <td>0.571346</td>\n",
       "      <td>1.000000</td>\n",
       "      <td>-0.104020</td>\n",
       "      <td>-0.474795</td>\n",
       "      <td>-0.201852</td>\n",
       "      <td>-0.113319</td>\n",
       "      <td>-0.163667</td>\n",
       "    </tr>\n",
       "    <tr>\n",
       "      <th>Score_2</th>\n",
       "      <td>-0.039416</td>\n",
       "      <td>0.275749</td>\n",
       "      <td>0.019738</td>\n",
       "      <td>0.145093</td>\n",
       "      <td>-0.036357</td>\n",
       "      <td>-0.190961</td>\n",
       "      <td>-0.104020</td>\n",
       "      <td>1.000000</td>\n",
       "      <td>0.033445</td>\n",
       "      <td>0.019435</td>\n",
       "      <td>-0.002480</td>\n",
       "      <td>0.001737</td>\n",
       "    </tr>\n",
       "    <tr>\n",
       "      <th>Score_3</th>\n",
       "      <td>0.620874</td>\n",
       "      <td>0.527086</td>\n",
       "      <td>0.036477</td>\n",
       "      <td>0.516937</td>\n",
       "      <td>-0.043944</td>\n",
       "      <td>-0.431723</td>\n",
       "      <td>-0.474795</td>\n",
       "      <td>0.033445</td>\n",
       "      <td>1.000000</td>\n",
       "      <td>0.181573</td>\n",
       "      <td>0.009258</td>\n",
       "      <td>0.176765</td>\n",
       "    </tr>\n",
       "    <tr>\n",
       "      <th>Score_4</th>\n",
       "      <td>0.119472</td>\n",
       "      <td>0.253789</td>\n",
       "      <td>0.003057</td>\n",
       "      <td>0.263739</td>\n",
       "      <td>-0.046058</td>\n",
       "      <td>-0.222663</td>\n",
       "      <td>-0.201852</td>\n",
       "      <td>0.019435</td>\n",
       "      <td>0.181573</td>\n",
       "      <td>1.000000</td>\n",
       "      <td>0.026966</td>\n",
       "      <td>0.043677</td>\n",
       "    </tr>\n",
       "    <tr>\n",
       "      <th>time</th>\n",
       "      <td>-0.063763</td>\n",
       "      <td>0.101478</td>\n",
       "      <td>-0.012886</td>\n",
       "      <td>0.080659</td>\n",
       "      <td>-0.009798</td>\n",
       "      <td>-0.072484</td>\n",
       "      <td>-0.113319</td>\n",
       "      <td>-0.002480</td>\n",
       "      <td>0.009258</td>\n",
       "      <td>0.026966</td>\n",
       "      <td>1.000000</td>\n",
       "      <td>0.020172</td>\n",
       "    </tr>\n",
       "    <tr>\n",
       "      <th>popularity</th>\n",
       "      <td>0.232888</td>\n",
       "      <td>0.200988</td>\n",
       "      <td>0.003716</td>\n",
       "      <td>0.204896</td>\n",
       "      <td>-0.034565</td>\n",
       "      <td>-0.195113</td>\n",
       "      <td>-0.163667</td>\n",
       "      <td>0.001737</td>\n",
       "      <td>0.176765</td>\n",
       "      <td>0.043677</td>\n",
       "      <td>0.020172</td>\n",
       "      <td>1.000000</td>\n",
       "    </tr>\n",
       "  </tbody>\n",
       "</table>\n",
       "</div>"
      ],
      "text/plain": [
       "                Store_Ratio  Basket_Ratio  Category_1  Store_Score  \\\n",
       "Store_Ratio        1.000000      0.465598    0.040335     0.599820   \n",
       "Basket_Ratio       0.465598      1.000000    0.051739     0.826055   \n",
       "Category_1         0.040335      0.051739    1.000000     0.042988   \n",
       "Store_Score        0.599820      0.826055    0.042988     1.000000   \n",
       "Category_2        -0.102391     -0.114843   -0.139914    -0.085984   \n",
       "Store_Presence    -0.471475     -0.821807   -0.046474    -0.723449   \n",
       "Score_1           -0.454113     -0.612220   -0.028973    -0.726385   \n",
       "Score_2           -0.039416      0.275749    0.019738     0.145093   \n",
       "Score_3            0.620874      0.527086    0.036477     0.516937   \n",
       "Score_4            0.119472      0.253789    0.003057     0.263739   \n",
       "time              -0.063763      0.101478   -0.012886     0.080659   \n",
       "popularity         0.232888      0.200988    0.003716     0.204896   \n",
       "\n",
       "                Category_2  Store_Presence   Score_1   Score_2   Score_3  \\\n",
       "Store_Ratio      -0.102391       -0.471475 -0.454113 -0.039416  0.620874   \n",
       "Basket_Ratio     -0.114843       -0.821807 -0.612220  0.275749  0.527086   \n",
       "Category_1       -0.139914       -0.046474 -0.028973  0.019738  0.036477   \n",
       "Store_Score      -0.085984       -0.723449 -0.726385  0.145093  0.516937   \n",
       "Category_2        1.000000        0.104456  0.020086 -0.036357 -0.043944   \n",
       "Store_Presence    0.104456        1.000000  0.571346 -0.190961 -0.431723   \n",
       "Score_1           0.020086        0.571346  1.000000 -0.104020 -0.474795   \n",
       "Score_2          -0.036357       -0.190961 -0.104020  1.000000  0.033445   \n",
       "Score_3          -0.043944       -0.431723 -0.474795  0.033445  1.000000   \n",
       "Score_4          -0.046058       -0.222663 -0.201852  0.019435  0.181573   \n",
       "time             -0.009798       -0.072484 -0.113319 -0.002480  0.009258   \n",
       "popularity       -0.034565       -0.195113 -0.163667  0.001737  0.176765   \n",
       "\n",
       "                 Score_4      time  popularity  \n",
       "Store_Ratio     0.119472 -0.063763    0.232888  \n",
       "Basket_Ratio    0.253789  0.101478    0.200988  \n",
       "Category_1      0.003057 -0.012886    0.003716  \n",
       "Store_Score     0.263739  0.080659    0.204896  \n",
       "Category_2     -0.046058 -0.009798   -0.034565  \n",
       "Store_Presence -0.222663 -0.072484   -0.195113  \n",
       "Score_1        -0.201852 -0.113319   -0.163667  \n",
       "Score_2         0.019435 -0.002480    0.001737  \n",
       "Score_3         0.181573  0.009258    0.176765  \n",
       "Score_4         1.000000  0.026966    0.043677  \n",
       "time            0.026966  1.000000    0.020172  \n",
       "popularity      0.043677  0.020172    1.000000  "
      ]
     },
     "execution_count": 3,
     "metadata": {},
     "output_type": "execute_result"
    }
   ],
   "source": [
    "train.corr()"
   ]
  },
  {
   "cell_type": "markdown",
   "metadata": {},
   "source": [
    "There is no multicolinearity in the features"
   ]
  },
  {
   "cell_type": "code",
   "execution_count": 32,
   "metadata": {},
   "outputs": [],
   "source": [
    "#Creating a function for plotting the confusion matrix\n",
    "def confusion_plot(y_true,y_pred):\n",
    "    c=confusion_matrix(y_true,y_pred) #confusion matrix\n",
    "    r=(((c.T)/(c.sum(axis=1))).T) # recall matrix\n",
    "    p=(c/c.sum(axis=1))\n",
    "    labels=[0,1,3,4,5]\n",
    "    plt.figure(figsize=(20,7))\n",
    "    sns.heatmap(c,annot=True,fmt=\".3f\",xticklabels=labels,yticklabels=labels)\n",
    "    plt.xlabel(\"y_pred\")\n",
    "    plt.ylabel(\"y_true\")\n",
    "    plt.show()\n",
    "    print('*'*30)\n",
    "    print(\"Precision matrix\")\n",
    "    sns.heatmap(p,annot=True,fmt=\".3f\",xticklabels=labels,yticklabels=labels)\n",
    "    plt.xlabel(\"y_pred\")\n",
    "    plt.ylabel(\"y_true\")\n",
    "    plt.show()\n",
    "    print('*'*30)\n",
    "    print(\"Recall matrix\")\n",
    "    sns.heatmap(r,annot=True,fmt=\".3f\",xticklabels=labels,yticklabels=labels)\n",
    "    plt.xlabel(\"y_pred\")\n",
    "    plt.ylabel(\"y_true\")\n",
    "    plt.show()\n",
    "    \n",
    "    "
   ]
  },
  {
   "cell_type": "code",
   "execution_count": 7,
   "metadata": {},
   "outputs": [
    {
     "name": "stdout",
     "output_type": "stream",
     "text": [
      "the shape of x_train (11652, 12)\n",
      "the shape of x_cv (2914, 12)\n",
      "the shape of x_test (3642, 12)\n"
     ]
    }
   ],
   "source": [
    "#splitting the data into train,test,cv\n",
    "x_train,x_test,y_train,y_test=train_test_split(train,train[\"popularity\"],test_size=0.2,random_state=1,stratify=train[\"popularity\"])\n",
    "x_train,x_cv,y_train,y_cv=train_test_split(x_train,y_train,test_size=0.2,random_state=1,stratify=y_train)\n",
    "print(\"the shape of x_train\",x_train.shape)\n",
    "print(\"the shape of x_cv\",x_cv.shape)\n",
    "print(\"the shape of x_test\",x_test.shape)"
   ]
  },
  {
   "cell_type": "code",
   "execution_count": 6,
   "metadata": {},
   "outputs": [
    {
     "data": {
      "image/png": "[encoded data removed]",
      "text/plain": [
       "<Figure size 432x288 with 1 Axes>"
      ]
     },
     "metadata": {
      "needs_background": "light"
     },
     "output_type": "display_data"
    },
    {
     "name": "stdout",
     "output_type": "stream",
     "text": [
      "--------------------------------------------------------------------------------\n"
     ]
    },
    {
     "data": {
      "image/png": "[encoded data removed]",
      "text/plain": [
       "<Figure size 432x288 with 1 Axes>"
      ]
     },
     "metadata": {
      "needs_background": "light"
     },
     "output_type": "display_data"
    },
    {
     "name": "stdout",
     "output_type": "stream",
     "text": [
      "--------------------------------------------------------------------------------\n"
     ]
    },
    {
     "data": {
      "image/png": "[encoded data removed]",
      "text/plain": [
       "<Figure size 432x288 with 1 Axes>"
      ]
     },
     "metadata": {
      "needs_background": "light"
     },
     "output_type": "display_data"
    }
   ],
   "source": [
    "#plotting the distribution of dependent variable in all three sets\n",
    "train_class_distribution = x_train['popularity'].value_counts()\n",
    "test_class_distribution = x_test['popularity'].value_counts()\n",
    "cv_class_distribution = x_cv['popularity'].value_counts()\n",
    "\n",
    "\n",
    "train_class_distribution.plot(kind='bar')\n",
    "plt.xlabel('Class')\n",
    "plt.ylabel('Data points per Class')\n",
    "plt.title('Distribution of yi in train data')\n",
    "plt.grid()\n",
    "plt.show()\n",
    "\n",
    "\n",
    "    \n",
    "\n",
    "\n",
    "print('-'*80)\n",
    "\n",
    "test_class_distribution.plot(kind='bar')\n",
    "plt.xlabel('Class')\n",
    "plt.ylabel('Data points per Class')\n",
    "plt.title('Distribution of yi in test data')\n",
    "plt.grid()\n",
    "plt.show()\n",
    "\n",
    "\n",
    "\n",
    "print('-'*80)\n",
    "\n",
    "cv_class_distribution.plot(kind='bar')\n",
    "plt.xlabel('Class')\n",
    "plt.ylabel('Data points per Class')\n",
    "plt.title('Distribution of yi in cross validation data')\n",
    "plt.grid()\n",
    "plt.show()\n",
    "\n"
   ]
  },
  {
   "cell_type": "markdown",
   "metadata": {},
   "source": [
    "# Ml Models\n"
   ]
  },
  {
   "cell_type": "markdown",
   "metadata": {},
   "source": [
    "# Logestic Regression"
   ]
  },
  {
   "cell_type": "markdown",
   "metadata": {},
   "source": [
    "preprocessing the data for logestic regression"
   ]
  },
  {
   "cell_type": "code",
   "execution_count": 12,
   "metadata": {},
   "outputs": [],
   "source": [
    "#one hot encoding Category_1\n",
    "one=OneHotEncoder()\n",
    "one.fit(train['Category_1'].values.reshape(-1,1))\n",
    "Category_1_one_x_train=one.fit_transform(x_train[\"Category_1\"].values.reshape(-1,1)).toarray()\n",
    "Category_1_one_x_cv=one.fit_transform(x_cv[\"Category_1\"].values.reshape(-1,1)).toarray()\n",
    "Category_1_one_x_test=one.fit_transform(x_test[\"Category_1\"].values.reshape(-1,1)).toarray()\n",
    "\n",
    "\n",
    "#one hot encoding Category_2\n",
    "one=OneHotEncoder()\n",
    "one.fit(train['Category_2'].values.reshape(-1,1))\n",
    "Category_2_one_x_train=one.fit_transform(x_train[\"Category_2\"].values.reshape(-1,1)).toarray()\n",
    "Category_2_one_x_cv=one.fit_transform(x_cv[\"Category_2\"].values.reshape(-1,1)).toarray()\n",
    "Category_2_one_x_test=one.fit_transform(x_test[\"Category_2\"].values.reshape(-1,1)).toarray()\n",
    "\n",
    "\n"
   ]
  },
  {
   "cell_type": "code",
   "execution_count": 11,
   "metadata": {},
   "outputs": [],
   "source": [
    "# StandardScaler of  Store_Ratio\n",
    "stan=StandardScaler()\n",
    "stan.fit(train[\"Store_Ratio\"].values.reshape(-1,1))\n",
    "Store_Ratio_stan_x_train=stan.fit_transform(x_train[\"Store_Ratio\"].values.reshape(-1,1))\n",
    "Store_Ratio_stan_x_cv=stan.fit_transform(x_cv[\"Store_Ratio\"].values.reshape(-1,1))\n",
    "Store_Ratio_stan_x_test=stan.fit_transform(x_test[\"Store_Ratio\"].values.reshape(-1,1))\n",
    "\n",
    "# StandardScaler of  Basket_Ratio\n",
    "stan=StandardScaler()\n",
    "stan.fit(train[\"Basket_Ratio\"].values.reshape(-1,1))\n",
    "Basket_Ratio_stan_x_train=stan.fit_transform(x_train[\"Basket_Ratio\"].values.reshape(-1,1))\n",
    "Basket_Ratio_stan_x_cv=stan.fit_transform(x_cv[\"Basket_Ratio\"].values.reshape(-1,1))\n",
    "Basket_Ratio_stan_x_test=stan.fit_transform(x_test[\"Basket_Ratio\"].values.reshape(-1,1))\n",
    "\n",
    "# StandardScaler of  Store_Score\n",
    "stan=StandardScaler()\n",
    "stan.fit(train[\"Store_Score\"].values.reshape(-1,1))\n",
    "Store_Score_stan_x_train=stan.fit_transform(x_train[\"Store_Score\"].values.reshape(-1,1))\n",
    "Store_Score_stan_x_cv=stan.fit_transform(x_cv[\"Store_Score\"].values.reshape(-1,1))\n",
    "Store_Score_stan_x_test=stan.fit_transform(x_test[\"Store_Score\"].values.reshape(-1,1))\n",
    "\n",
    "\n",
    "# StandardScaler of  Store_Presence\n",
    "stan=StandardScaler()\n",
    "stan.fit(train[\"Store_Presence\"].values.reshape(-1,1))\n",
    "Store_Presence_stan_x_train=stan.fit_transform(x_train[\"Store_Presence\"].values.reshape(-1,1))\n",
    "Store_Presence_stan_x_cv=stan.fit_transform(x_cv[\"Store_Presence\"].values.reshape(-1,1))\n",
    "Store_Presence_stan_x_test=stan.fit_transform(x_test[\"Store_Presence\"].values.reshape(-1,1))\n",
    "\n",
    "# StandardScaler of  Score_1\n",
    "stan=StandardScaler()\n",
    "stan.fit(train[\"Score_1\"].values.reshape(-1,1))\n",
    "Score_1_stan_x_train=stan.fit_transform(x_train[\"Score_1\"].values.reshape(-1,1))\n",
    "Score_1_stan_x_cv=stan.fit_transform(x_cv[\"Score_1\"].values.reshape(-1,1))\n",
    "Score_1_stan_x_test=stan.fit_transform(x_test[\"Score_1\"].values.reshape(-1,1))\n",
    "\n",
    "# StandardScaler of  Score_2\n",
    "stan=StandardScaler()\n",
    "stan.fit(train[\"Score_2\"].values.reshape(-1,1))\n",
    "Score_2_stan_x_train=stan.fit_transform(x_train[\"Score_2\"].values.reshape(-1,1))\n",
    "Score_2_stan_x_cv=stan.fit_transform(x_cv[\"Score_2\"].values.reshape(-1,1))\n",
    "Score_2_stan_x_test=stan.fit_transform(x_test[\"Score_2\"].values.reshape(-1,1))\n",
    "\n",
    "# StandardScaler of  Score_3\n",
    "stan=StandardScaler()\n",
    "stan.fit(train[\"Score_3\"].values.reshape(-1,1))\n",
    "Score_3_stan_x_train=stan.fit_transform(x_train[\"Score_3\"].values.reshape(-1,1))\n",
    "Score_3_stan_x_cv=stan.fit_transform(x_cv[\"Score_3\"].values.reshape(-1,1))\n",
    "Score_3_stan_x_test=stan.fit_transform(x_test[\"Score_3\"].values.reshape(-1,1))\n",
    "\n",
    "# StandardScaler of  Score_4\n",
    "stan=StandardScaler()\n",
    "stan.fit(train[\"Score_4\"].values.reshape(-1,1))\n",
    "Score_4_stan_x_train=stan.fit_transform(x_train[\"Score_4\"].values.reshape(-1,1))\n",
    "Score_4_stan_x_cv=stan.fit_transform(x_cv[\"Score_4\"].values.reshape(-1,1))\n",
    "Score_4_stan_x_test=stan.fit_transform(x_test[\"Score_4\"].values.reshape(-1,1))\n",
    "\n",
    "# StandardScaler of  time\n",
    "stan=StandardScaler()\n",
    "stan.fit(train[\"time\"].values.reshape(-1,1))\n",
    "time_stan_x_train=stan.fit_transform(x_train[\"time\"].values.reshape(-1,1))\n",
    "time_stan_x_cv=stan.fit_transform(x_cv[\"time\"].values.reshape(-1,1))\n",
    "time_stan_x_test=stan.fit_transform(x_test[\"time\"].values.reshape(-1,1))\n",
    "\n",
    "# StandardScaler of  time\n",
    "stan=StandardScaler()\n",
    "stan.fit(train[\"time\"].values.reshape(-1,1))\n",
    "time_stan_x_train=stan.fit_transform(x_train[\"time\"].values.reshape(-1,1))\n",
    "time_stan_x_cv=stan.fit_transform(x_cv[\"time\"].values.reshape(-1,1))\n",
    "time_stan_x_test=stan.fit_transform(x_test[\"time\"].values.reshape(-1,1))\n"
   ]
  },
  {
   "cell_type": "code",
   "execution_count": 13,
   "metadata": {},
   "outputs": [
    {
     "name": "stdout",
     "output_type": "stream",
     "text": [
      "shape of train (11652, 23)\n",
      "shape of cv (2914, 23)\n",
      "shape of test (3642, 23)\n"
     ]
    }
   ],
   "source": [
    "#combining all the columns\n",
    "t=np.hstack((Store_Ratio_stan_x_train,Basket_Ratio_stan_x_train,Category_1_one_x_train,Store_Score_stan_x_train,Category_2_one_x_train,Store_Presence_stan_x_train,Score_1_stan_x_train,Score_2_stan_x_train,Score_3_stan_x_train,Score_4_stan_x_train,time_stan_x_train))\n",
    "cv=np.hstack((Store_Ratio_stan_x_cv,Basket_Ratio_stan_x_cv,Category_1_one_x_cv,Store_Score_stan_x_cv,Category_2_one_x_cv,Store_Presence_stan_x_cv,Score_1_stan_x_cv,Score_2_stan_x_cv,Score_3_stan_x_cv,Score_4_stan_x_cv,time_stan_x_cv))\n",
    "test=np.hstack((Store_Ratio_stan_x_test,Basket_Ratio_stan_x_test,Category_1_one_x_test,Store_Score_stan_x_test,Category_2_one_x_test,Store_Presence_stan_x_test,Score_1_stan_x_test,Score_2_stan_x_test,Score_3_stan_x_test,Score_4_stan_x_test,time_stan_x_test))\n",
    "\n",
    "print(\"shape of train\",t.shape)\n",
    "print(\"shape of cv\",cv.shape)\n",
    "print(\"shape of test\",test.shape)\n",
    "\n"
   ]
  },
  {
   "cell_type": "code",
   "execution_count": 26,
   "metadata": {},
   "outputs": [
    {
     "name": "stderr",
     "output_type": "stream",
     "text": [
      "\u001b[32m[I 2021-03-14 10:50:09,970]\u001b[0m A new study created in memory with name: no-name-cd394bcc-609f-4c98-8bea-fc8ce36c11b2\u001b[0m\n",
      "\u001b[32m[I 2021-03-14 10:50:12,036]\u001b[0m Trial 0 finished with value: 0.47911728584091745 and parameters: {'alpha': 0.01, 'penalty': 'elasticnet'}. Best is trial 0 with value: 0.47911728584091745.\u001b[0m\n",
      "\u001b[32m[I 2021-03-14 10:50:15,175]\u001b[0m Trial 1 finished with value: 0.5749547700351715 and parameters: {'alpha': 10, 'penalty': 'elasticnet'}. Best is trial 0 with value: 0.47911728584091745.\u001b[0m\n",
      "\u001b[32m[I 2021-03-14 10:50:17,421]\u001b[0m Trial 2 finished with value: 0.4815622302983013 and parameters: {'alpha': 0.001, 'penalty': 'l2'}. Best is trial 0 with value: 0.47911728584091745.\u001b[0m\n",
      "\u001b[32m[I 2021-03-14 10:50:21,822]\u001b[0m Trial 3 finished with value: 0.4883263756941596 and parameters: {'alpha': 0.0001, 'penalty': 'l2'}. Best is trial 0 with value: 0.47911728584091745.\u001b[0m\n",
      "\u001b[32m[I 2021-03-14 10:50:24,251]\u001b[0m Trial 4 finished with value: 0.4958167500443088 and parameters: {'alpha': 10, 'penalty': 'l2'}. Best is trial 0 with value: 0.47911728584091745.\u001b[0m\n",
      "\u001b[32m[I 2021-03-14 10:50:35,054]\u001b[0m Trial 5 finished with value: 0.49613708011154206 and parameters: {'alpha': 1e-05, 'penalty': 'l1'}. Best is trial 0 with value: 0.47911728584091745.\u001b[0m\n",
      "\u001b[32m[I 2021-03-14 10:50:38,294]\u001b[0m Trial 6 finished with value: 0.4883263756941596 and parameters: {'alpha': 0.0001, 'penalty': 'l2'}. Best is trial 0 with value: 0.47911728584091745.\u001b[0m\n",
      "\u001b[32m[I 2021-03-14 10:50:39,994]\u001b[0m Trial 7 finished with value: 0.47911728584091745 and parameters: {'alpha': 0.01, 'penalty': 'elasticnet'}. Best is trial 0 with value: 0.47911728584091745.\u001b[0m\n",
      "\u001b[32m[I 2021-03-14 10:50:44,628]\u001b[0m Trial 8 finished with value: 0.5036339215331198 and parameters: {'alpha': 1e-05, 'penalty': 'l2'}. Best is trial 0 with value: 0.47911728584091745.\u001b[0m\n",
      "\u001b[32m[I 2021-03-14 10:50:50,574]\u001b[0m Trial 9 finished with value: 0.483478137880491 and parameters: {'alpha': 0.0001, 'penalty': 'l1'}. Best is trial 0 with value: 0.47911728584091745.\u001b[0m\n",
      "\u001b[32m[I 2021-03-14 10:50:52,402]\u001b[0m Trial 10 finished with value: 0.47911728584091745 and parameters: {'alpha': 0.01, 'penalty': 'elasticnet'}. Best is trial 0 with value: 0.47911728584091745.\u001b[0m\n",
      "\u001b[32m[I 2021-03-14 10:50:54,051]\u001b[0m Trial 11 finished with value: 0.47911728584091745 and parameters: {'alpha': 0.01, 'penalty': 'elasticnet'}. Best is trial 0 with value: 0.47911728584091745.\u001b[0m\n",
      "\u001b[32m[I 2021-03-14 10:50:55,674]\u001b[0m Trial 12 finished with value: 0.48463660305181744 and parameters: {'alpha': 0.1, 'penalty': 'elasticnet'}. Best is trial 0 with value: 0.47911728584091745.\u001b[0m\n",
      "\u001b[32m[I 2021-03-14 10:50:57,059]\u001b[0m Trial 13 finished with value: 0.5749547699235864 and parameters: {'alpha': 100, 'penalty': 'elasticnet'}. Best is trial 0 with value: 0.47911728584091745.\u001b[0m\n",
      "\u001b[32m[I 2021-03-14 10:50:59,136]\u001b[0m Trial 14 finished with value: 0.5610320609804881 and parameters: {'alpha': 1, 'penalty': 'elasticnet'}. Best is trial 0 with value: 0.47911728584091745.\u001b[0m\n",
      "\u001b[32m[I 2021-03-14 10:51:00,792]\u001b[0m Trial 15 finished with value: 0.47911728584091745 and parameters: {'alpha': 0.01, 'penalty': 'elasticnet'}. Best is trial 0 with value: 0.47911728584091745.\u001b[0m\n",
      "\u001b[32m[I 2021-03-14 10:51:02,600]\u001b[0m Trial 16 finished with value: 0.47911728584091745 and parameters: {'alpha': 0.01, 'penalty': 'elasticnet'}. Best is trial 0 with value: 0.47911728584091745.\u001b[0m\n",
      "\u001b[32m[I 2021-03-14 10:51:11,588]\u001b[0m Trial 17 finished with value: 0.47862250376209053 and parameters: {'alpha': 0.01, 'penalty': 'l1'}. Best is trial 17 with value: 0.47862250376209053.\u001b[0m\n",
      "\u001b[32m[I 2021-03-14 10:51:12,812]\u001b[0m Trial 18 finished with value: 0.5749547699235864 and parameters: {'alpha': 100, 'penalty': 'l1'}. Best is trial 17 with value: 0.47862250376209053.\u001b[0m\n",
      "\u001b[32m[I 2021-03-14 10:51:14,909]\u001b[0m Trial 19 finished with value: 0.5749547698936034 and parameters: {'alpha': 1, 'penalty': 'l1'}. Best is trial 17 with value: 0.47862250376209053.\u001b[0m\n",
      "\u001b[32m[I 2021-03-14 10:51:22,172]\u001b[0m Trial 20 finished with value: 0.4798259036706764 and parameters: {'alpha': 0.001, 'penalty': 'l1'}. Best is trial 17 with value: 0.47862250376209053.\u001b[0m\n",
      "\u001b[32m[I 2021-03-14 10:51:24,658]\u001b[0m Trial 21 finished with value: 0.47911728584091745 and parameters: {'alpha': 0.01, 'penalty': 'elasticnet'}. Best is trial 17 with value: 0.47862250376209053.\u001b[0m\n",
      "\u001b[32m[I 2021-03-14 10:51:35,050]\u001b[0m Trial 22 finished with value: 0.47862250376209053 and parameters: {'alpha': 0.01, 'penalty': 'l1'}. Best is trial 17 with value: 0.47862250376209053.\u001b[0m\n",
      "\u001b[32m[I 2021-03-14 10:51:44,393]\u001b[0m Trial 23 finished with value: 0.47862250376209053 and parameters: {'alpha': 0.01, 'penalty': 'l1'}. Best is trial 17 with value: 0.47862250376209053.\u001b[0m\n",
      "\u001b[32m[I 2021-03-14 10:51:52,154]\u001b[0m Trial 24 finished with value: 0.47862250376209053 and parameters: {'alpha': 0.01, 'penalty': 'l1'}. Best is trial 17 with value: 0.47862250376209053.\u001b[0m\n"
     ]
    }
   ],
   "source": [
    "#linear Regression\n",
    "def objective(trial):\n",
    "      alpha = trial.suggest_categorical('alpha', [1e-05, 0.0001, 0.001, 0.01, 0.1, 1, 10, 100])\n",
    "      penalty = trial.suggest_categorical('penalty', [\"l2\",\"l1\",'elasticnet'])\n",
    "      clf =SGDClassifier(alpha=alpha,random_state=1,penalty=penalty,loss='log',class_weight='balanced')\n",
    "      clf.fit(t,y_train)\n",
    "      sig_clf=CalibratedClassifierCV(clf)\n",
    "      sig_clf.fit(t,y_train)\n",
    "      pred=sig_clf.predict_proba(cv)\n",
    "      return metrics.log_loss(y_cv,pred)\n",
    "study = optuna.create_study(direction='minimize')\n",
    "study.optimize(objective, n_trials=25)"
   ]
  },
  {
   "cell_type": "code",
   "execution_count": 27,
   "metadata": {},
   "outputs": [
    {
     "name": "stdout",
     "output_type": "stream",
     "text": [
      "the log loss of cv is 0.47862250376209053\n",
      "the log loss of test is 0.48374084967166253\n"
     ]
    }
   ],
   "source": [
    "#predicting with best hyperparameters\n",
    "clf =SGDClassifier(alpha=0.01,random_state=1,penalty='l1',loss='log',class_weight='balanced')\n",
    "clf.fit(t,y_train)\n",
    "sig_clf=CalibratedClassifierCV(clf)\n",
    "sig_clf.fit(t,y_train)\n",
    "pred=sig_clf.predict_proba(cv)\n",
    "print('the log loss of cv is',metrics.log_loss(y_cv,pred))\n",
    "pred=sig_clf.predict_proba(test)\n",
    "print('the log loss of test is',metrics.log_loss(y_test,pred))"
   ]
  },
  {
   "cell_type": "code",
   "execution_count": 23,
   "metadata": {},
   "outputs": [
    {
     "data": {
      "image/png": "[encoded data removed]",
      "text/plain": [
       "<Figure size 1440x504 with 2 Axes>"
      ]
     },
     "metadata": {
      "needs_background": "light"
     },
     "output_type": "display_data"
    },
    {
     "name": "stdout",
     "output_type": "stream",
     "text": [
      "******************************\n",
      "Precision matrix\n"
     ]
    },
    {
     "data": {
      "image/png": "[encoded data removed]",
      "text/plain": [
       "<Figure size 432x288 with 2 Axes>"
      ]
     },
     "metadata": {
      "needs_background": "light"
     },
     "output_type": "display_data"
    },
    {
     "name": "stdout",
     "output_type": "stream",
     "text": [
      "******************************\n",
      "Recall matrix\n"
     ]
    },
    {
     "data": {
      "image/png": "[encoded data removed]",
      "text/plain": [
       "<Figure size 432x288 with 2 Axes>"
      ]
     },
     "metadata": {
      "needs_background": "light"
     },
     "output_type": "display_data"
    }
   ],
   "source": [
    "#plot the confusion on test data\n",
    "pred=sig_clf.predict(test)\n",
    "confusion_plot(y_test,pred)"
   ]
  },
  {
   "cell_type": "markdown",
   "metadata": {},
   "source": [
    "# SVC"
   ]
  },
  {
   "cell_type": "code",
   "execution_count": null,
   "metadata": {},
   "outputs": [],
   "source": [
    "#one hot encoding Category_1\n",
    "one=OneHotEncoder()\n",
    "one.fit(train['Category_1'].values.reshape(-1,1))\n",
    "Category_1_one_x_train=one.fit_transform(x_train[\"Category_1\"].values.reshape(-1,1)).toarray()\n",
    "Category_1_one_x_cv=one.fit_transform(x_cv[\"Category_1\"].values.reshape(-1,1)).toarray()\n",
    "Category_1_one_x_test=one.fit_transform(x_test[\"Category_1\"].values.reshape(-1,1)).toarray()\n",
    "\n",
    "\n",
    "#one hot encoding Category_2\n",
    "one=OneHotEncoder()\n",
    "one.fit(train['Category_2'].values.reshape(-1,1))\n",
    "Category_2_one_x_train=one.fit_transform(x_train[\"Category_2\"].values.reshape(-1,1)).toarray()\n",
    "Category_2_one_x_cv=one.fit_transform(x_cv[\"Category_2\"].values.reshape(-1,1)).toarray()\n",
    "Category_2_one_x_test=one.fit_transform(x_test[\"Category_2\"].values.reshape(-1,1)).toarray()\n",
    "\n",
    "\n"
   ]
  },
  {
   "cell_type": "code",
   "execution_count": 28,
   "metadata": {},
   "outputs": [],
   "source": [
    "# MinMax of  Store_Ratio\n",
    "stan=MinMaxScaler()\n",
    "stan.fit(train[\"Store_Ratio\"].values.reshape(-1,1))\n",
    "Store_Ratio_stan_x_train=stan.fit_transform(x_train[\"Store_Ratio\"].values.reshape(-1,1))\n",
    "Store_Ratio_stan_x_cv=stan.fit_transform(x_cv[\"Store_Ratio\"].values.reshape(-1,1))\n",
    "Store_Ratio_stan_x_test=stan.fit_transform(x_test[\"Store_Ratio\"].values.reshape(-1,1))\n",
    "\n",
    "# MinMax of  Basket_Ratio\n",
    "stan=MinMaxScaler()\n",
    "stan.fit(train[\"Basket_Ratio\"].values.reshape(-1,1))\n",
    "Basket_Ratio_stan_x_train=stan.fit_transform(x_train[\"Basket_Ratio\"].values.reshape(-1,1))\n",
    "Basket_Ratio_stan_x_cv=stan.fit_transform(x_cv[\"Basket_Ratio\"].values.reshape(-1,1))\n",
    "Basket_Ratio_stan_x_test=stan.fit_transform(x_test[\"Basket_Ratio\"].values.reshape(-1,1))\n",
    "\n",
    "# MinMax of  Store_Score\n",
    "stan=MinMaxScaler()\n",
    "stan.fit(train[\"Store_Score\"].values.reshape(-1,1))\n",
    "Store_Score_stan_x_train=stan.fit_transform(x_train[\"Store_Score\"].values.reshape(-1,1))\n",
    "Store_Score_stan_x_cv=stan.fit_transform(x_cv[\"Store_Score\"].values.reshape(-1,1))\n",
    "Store_Score_stan_x_test=stan.fit_transform(x_test[\"Store_Score\"].values.reshape(-1,1))\n",
    "\n",
    "\n",
    "# MinMax of  Store_Presence\n",
    "stan=MinMaxScaler()\n",
    "stan.fit(train[\"Store_Presence\"].values.reshape(-1,1))\n",
    "Store_Presence_stan_x_train=stan.fit_transform(x_train[\"Store_Presence\"].values.reshape(-1,1))\n",
    "Store_Presence_stan_x_cv=stan.fit_transform(x_cv[\"Store_Presence\"].values.reshape(-1,1))\n",
    "Store_Presence_stan_x_test=stan.fit_transform(x_test[\"Store_Presence\"].values.reshape(-1,1))\n",
    "\n",
    "# MinMax of  Score_1\n",
    "stan=MinMaxScaler()\n",
    "stan.fit(train[\"Score_1\"].values.reshape(-1,1))\n",
    "Score_1_stan_x_train=stan.fit_transform(x_train[\"Score_1\"].values.reshape(-1,1))\n",
    "Score_1_stan_x_cv=stan.fit_transform(x_cv[\"Score_1\"].values.reshape(-1,1))\n",
    "Score_1_stan_x_test=stan.fit_transform(x_test[\"Score_1\"].values.reshape(-1,1))\n",
    "\n",
    "# MinMax of  Score_2\n",
    "stan=MinMaxScaler()\n",
    "stan.fit(train[\"Score_2\"].values.reshape(-1,1))\n",
    "Score_2_stan_x_train=stan.fit_transform(x_train[\"Score_2\"].values.reshape(-1,1))\n",
    "Score_2_stan_x_cv=stan.fit_transform(x_cv[\"Score_2\"].values.reshape(-1,1))\n",
    "Score_2_stan_x_test=stan.fit_transform(x_test[\"Score_2\"].values.reshape(-1,1))\n",
    "\n",
    "# MinMax of  Score_3\n",
    "stan=MinMaxScaler()\n",
    "stan.fit(train[\"Score_3\"].values.reshape(-1,1))\n",
    "Score_3_stan_x_train=stan.fit_transform(x_train[\"Score_3\"].values.reshape(-1,1))\n",
    "Score_3_stan_x_cv=stan.fit_transform(x_cv[\"Score_3\"].values.reshape(-1,1))\n",
    "Score_3_stan_x_test=stan.fit_transform(x_test[\"Score_3\"].values.reshape(-1,1))\n",
    "\n",
    "# MinMax of  Score_4\n",
    "stan=MinMaxScaler()\n",
    "stan.fit(train[\"Score_4\"].values.reshape(-1,1))\n",
    "Score_4_stan_x_train=stan.fit_transform(x_train[\"Score_4\"].values.reshape(-1,1))\n",
    "Score_4_stan_x_cv=stan.fit_transform(x_cv[\"Score_4\"].values.reshape(-1,1))\n",
    "Score_4_stan_x_test=stan.fit_transform(x_test[\"Score_4\"].values.reshape(-1,1))\n",
    "\n",
    "# MinMax of  time\n",
    "stan=MinMaxScaler()\n",
    "stan.fit(train[\"time\"].values.reshape(-1,1))\n",
    "time_stan_x_train=stan.fit_transform(x_train[\"time\"].values.reshape(-1,1))\n",
    "time_stan_x_cv=stan.fit_transform(x_cv[\"time\"].values.reshape(-1,1))\n",
    "time_stan_x_test=stan.fit_transform(x_test[\"time\"].values.reshape(-1,1))\n",
    "\n",
    "# MinMax of  time\n",
    "stan=MinMaxScaler()\n",
    "stan.fit(train[\"time\"].values.reshape(-1,1))\n",
    "time_stan_x_train=stan.fit_transform(x_train[\"time\"].values.reshape(-1,1))\n",
    "time_stan_x_cv=stan.fit_transform(x_cv[\"time\"].values.reshape(-1,1))\n",
    "time_stan_x_test=stan.fit_transform(x_test[\"time\"].values.reshape(-1,1))\n"
   ]
  },
  {
   "cell_type": "code",
   "execution_count": 29,
   "metadata": {},
   "outputs": [
    {
     "name": "stdout",
     "output_type": "stream",
     "text": [
      "shape of train (11652, 23)\n",
      "shape of cv (2914, 23)\n",
      "shape of test (3642, 23)\n"
     ]
    }
   ],
   "source": [
    "#combining all the columns\n",
    "t=np.hstack((Store_Ratio_stan_x_train,Basket_Ratio_stan_x_train,Category_1_one_x_train,Store_Score_stan_x_train,Category_2_one_x_train,Store_Presence_stan_x_train,Score_1_stan_x_train,Score_2_stan_x_train,Score_3_stan_x_train,Score_4_stan_x_train,time_stan_x_train))\n",
    "cv=np.hstack((Store_Ratio_stan_x_cv,Basket_Ratio_stan_x_cv,Category_1_one_x_cv,Store_Score_stan_x_cv,Category_2_one_x_cv,Store_Presence_stan_x_cv,Score_1_stan_x_cv,Score_2_stan_x_cv,Score_3_stan_x_cv,Score_4_stan_x_cv,time_stan_x_cv))\n",
    "test=np.hstack((Store_Ratio_stan_x_test,Basket_Ratio_stan_x_test,Category_1_one_x_test,Store_Score_stan_x_test,Category_2_one_x_test,Store_Presence_stan_x_test,Score_1_stan_x_test,Score_2_stan_x_test,Score_3_stan_x_test,Score_4_stan_x_test,time_stan_x_test))\n",
    "\n",
    "print(\"shape of train\",t.shape)\n",
    "print(\"shape of cv\",cv.shape)\n",
    "print(\"shape of test\",test.shape)\n",
    "\n"
   ]
  },
  {
   "cell_type": "code",
   "execution_count": 36,
   "metadata": {},
   "outputs": [
    {
     "name": "stderr",
     "output_type": "stream",
     "text": [
      "\u001b[32m[I 2021-03-14 11:08:52,603]\u001b[0m A new study created in memory with name: no-name-91f990e9-c347-46ae-aa81-80be7fd721ae\u001b[0m\n",
      "\u001b[32m[I 2021-03-14 11:10:16,994]\u001b[0m Trial 0 finished with value: 0.5212689904787915 and parameters: {'C': 10, 'gamma': 0.1}. Best is trial 0 with value: 0.5212689904787915.\u001b[0m\n",
      "\u001b[32m[I 2021-03-14 11:12:36,049]\u001b[0m Trial 1 finished with value: 0.5319822144681173 and parameters: {'C': 10, 'gamma': 0.01}. Best is trial 0 with value: 0.5212689904787915.\u001b[0m\n",
      "\u001b[32m[I 2021-03-14 11:14:47,725]\u001b[0m Trial 2 finished with value: 0.5258485517196149 and parameters: {'C': 10, 'gamma': 0.0001}. Best is trial 0 with value: 0.5212689904787915.\u001b[0m\n",
      "\u001b[32m[I 2021-03-14 11:16:31,096]\u001b[0m Trial 3 finished with value: 0.5355471645442258 and parameters: {'C': 10, 'gamma': 0.001}. Best is trial 0 with value: 0.5212689904787915.\u001b[0m\n",
      "\u001b[32m[I 2021-03-14 11:18:06,155]\u001b[0m Trial 4 finished with value: 0.5226157480919348 and parameters: {'C': 1000, 'gamma': 0.01}. Best is trial 0 with value: 0.5212689904787915.\u001b[0m\n",
      "\u001b[32m[I 2021-03-14 11:20:59,920]\u001b[0m Trial 5 finished with value: 0.5400649907517717 and parameters: {'C': 0.1, 'gamma': 0.0001}. Best is trial 0 with value: 0.5212689904787915.\u001b[0m\n",
      "\u001b[32m[I 2021-03-14 11:23:39,449]\u001b[0m Trial 6 finished with value: 0.5526826293642317 and parameters: {'C': 1, 'gamma': 0.0001}. Best is trial 0 with value: 0.5212689904787915.\u001b[0m\n",
      "\u001b[32m[I 2021-03-14 11:25:48,890]\u001b[0m Trial 7 finished with value: 0.5220526291340768 and parameters: {'C': 1000, 'gamma': 0.1}. Best is trial 0 with value: 0.5212689904787915.\u001b[0m\n",
      "\u001b[32m[I 2021-03-14 11:27:13,708]\u001b[0m Trial 8 finished with value: 0.5331860917117961 and parameters: {'C': 100, 'gamma': 0.001}. Best is trial 0 with value: 0.5212689904787915.\u001b[0m\n",
      "\u001b[32m[I 2021-03-14 11:30:13,599]\u001b[0m Trial 9 finished with value: 0.5527994675439625 and parameters: {'C': 0.1, 'gamma': 0.001}. Best is trial 0 with value: 0.5212689904787915.\u001b[0m\n",
      "\u001b[32m[I 2021-03-14 11:31:40,175]\u001b[0m Trial 10 finished with value: 0.5225178577010178 and parameters: {'C': 1, 'gamma': 1}. Best is trial 0 with value: 0.5212689904787915.\u001b[0m\n",
      "\u001b[32m[I 2021-03-14 11:33:50,520]\u001b[0m Trial 11 finished with value: 0.5220526291340768 and parameters: {'C': 1000, 'gamma': 0.1}. Best is trial 0 with value: 0.5212689904787915.\u001b[0m\n",
      "\u001b[32m[I 2021-03-14 11:36:09,984]\u001b[0m Trial 12 finished with value: 0.5220526291340768 and parameters: {'C': 1000, 'gamma': 0.1}. Best is trial 0 with value: 0.5212689904787915.\u001b[0m\n",
      "\u001b[32m[I 2021-03-14 11:37:52,347]\u001b[0m Trial 13 finished with value: 0.5212689904787915 and parameters: {'C': 10, 'gamma': 0.1}. Best is trial 0 with value: 0.5212689904787915.\u001b[0m\n",
      "\u001b[32m[I 2021-03-14 11:39:21,996]\u001b[0m Trial 14 finished with value: 0.5212689904787915 and parameters: {'C': 10, 'gamma': 0.1}. Best is trial 0 with value: 0.5212689904787915.\u001b[0m\n",
      "\u001b[32m[I 2021-03-14 11:40:56,715]\u001b[0m Trial 15 finished with value: 0.5212689904787915 and parameters: {'C': 10, 'gamma': 0.1}. Best is trial 0 with value: 0.5212689904787915.\u001b[0m\n",
      "\u001b[32m[I 2021-03-14 11:42:35,299]\u001b[0m Trial 16 finished with value: 0.5206209633890707 and parameters: {'C': 100, 'gamma': 0.1}. Best is trial 16 with value: 0.5206209633890707.\u001b[0m\n",
      "\u001b[32m[I 2021-03-14 11:43:31,812]\u001b[0m Trial 17 finished with value: 0.5239755233526673 and parameters: {'C': 100, 'gamma': 1}. Best is trial 16 with value: 0.5206209633890707.\u001b[0m\n",
      "\u001b[32m[I 2021-03-14 11:45:25,461]\u001b[0m Trial 18 finished with value: 0.5206209633890707 and parameters: {'C': 100, 'gamma': 0.1}. Best is trial 16 with value: 0.5206209633890707.\u001b[0m\n",
      "\u001b[32m[I 2021-03-14 11:47:22,617]\u001b[0m Trial 19 finished with value: 0.5206209633890707 and parameters: {'C': 100, 'gamma': 0.1}. Best is trial 16 with value: 0.5206209633890707.\u001b[0m\n",
      "\u001b[32m[I 2021-03-14 11:48:38,681]\u001b[0m Trial 20 finished with value: 0.5239755233526673 and parameters: {'C': 100, 'gamma': 1}. Best is trial 16 with value: 0.5206209633890707.\u001b[0m\n",
      "\u001b[32m[I 2021-03-14 11:50:07,341]\u001b[0m Trial 21 finished with value: 0.5206209633890707 and parameters: {'C': 100, 'gamma': 0.1}. Best is trial 16 with value: 0.5206209633890707.\u001b[0m\n",
      "\u001b[32m[I 2021-03-14 11:51:35,716]\u001b[0m Trial 22 finished with value: 0.5206209633890707 and parameters: {'C': 100, 'gamma': 0.1}. Best is trial 16 with value: 0.5206209633890707.\u001b[0m\n",
      "\u001b[32m[I 2021-03-14 11:54:20,347]\u001b[0m Trial 23 finished with value: 0.5206209633890707 and parameters: {'C': 100, 'gamma': 0.1}. Best is trial 16 with value: 0.5206209633890707.\u001b[0m\n",
      "\u001b[32m[I 2021-03-14 11:55:47,637]\u001b[0m Trial 24 finished with value: 0.5206209633890707 and parameters: {'C': 100, 'gamma': 0.1}. Best is trial 16 with value: 0.5206209633890707.\u001b[0m\n"
     ]
    }
   ],
   "source": [
    "#linear SVC\n",
    "def objective(trial):\n",
    "      C = trial.suggest_categorical('C', [0.1, 1, 10, 100, 1000])\n",
    "      gamma = trial.suggest_categorical('gamma', [1, 0.1, 0.01, 0.001, 0.0001])\n",
    "      clf =SVC(C=C,gamma=gamma,class_weight='balanced',random_state=1)\n",
    "      clf.fit(t,y_train)\n",
    "      sig_clf=CalibratedClassifierCV(clf)\n",
    "      sig_clf.fit(t,y_train)\n",
    "      pred=sig_clf.predict_proba(cv)\n",
    "      return metrics.log_loss(y_cv,pred)\n",
    "study = optuna.create_study(direction='minimize')\n",
    "study.optimize(objective, n_trials=25)"
   ]
  },
  {
   "cell_type": "code",
   "execution_count": 37,
   "metadata": {},
   "outputs": [
    {
     "name": "stdout",
     "output_type": "stream",
     "text": [
      "the log loss of cv is 0.5206209633890707\n",
      "the log loss of test is 0.5224509011865924\n"
     ]
    }
   ],
   "source": [
    "#predicting with best hyperparameters\n",
    "clf =SVC(C=100,gamma=0.1,class_weight='balanced',random_state=1)\n",
    "clf.fit(t,y_train)\n",
    "sig_clf=CalibratedClassifierCV(clf)\n",
    "sig_clf.fit(t,y_train)\n",
    "pred=sig_clf.predict_proba(cv)\n",
    "print('the log loss of cv is',metrics.log_loss(y_cv,pred))\n",
    "pred=sig_clf.predict_proba(test)\n",
    "print('the log loss of test is',metrics.log_loss(y_test,pred))"
   ]
  },
  {
   "cell_type": "code",
   "execution_count": 38,
   "metadata": {},
   "outputs": [
    {
     "data": {
      "image/png": "[encoded data removed]",
      "text/plain": [
       "<Figure size 1440x504 with 2 Axes>"
      ]
     },
     "metadata": {
      "needs_background": "light"
     },
     "output_type": "display_data"
    },
    {
     "name": "stdout",
     "output_type": "stream",
     "text": [
      "******************************\n",
      "Precision matrix\n"
     ]
    },
    {
     "data": {
      "image/png": "[encoded data removed]",
      "text/plain": [
       "<Figure size 432x288 with 2 Axes>"
      ]
     },
     "metadata": {
      "needs_background": "light"
     },
     "output_type": "display_data"
    },
    {
     "name": "stdout",
     "output_type": "stream",
     "text": [
      "******************************\n",
      "Recall matrix\n"
     ]
    },
    {
     "data": {
      "image/png": "[encoded data removed]",
      "text/plain": [
       "<Figure size 432x288 with 2 Axes>"
      ]
     },
     "metadata": {
      "needs_background": "light"
     },
     "output_type": "display_data"
    }
   ],
   "source": [
    "#plot the confusion on test data\n",
    "pred=sig_clf.predict(test)\n",
    "confusion_plot(y_test,pred)"
   ]
  },
  {
   "cell_type": "code",
   "execution_count": 22,
   "metadata": {},
   "outputs": [
    {
     "data": {
      "text/html": [
       "<div>\n",
       "<style scoped>\n",
       "    .dataframe tbody tr th:only-of-type {\n",
       "        vertical-align: middle;\n",
       "    }\n",
       "\n",
       "    .dataframe tbody tr th {\n",
       "        vertical-align: top;\n",
       "    }\n",
       "\n",
       "    .dataframe thead th {\n",
       "        text-align: right;\n",
       "    }\n",
       "</style>\n",
       "<table border=\"1\" class=\"dataframe\">\n",
       "  <thead>\n",
       "    <tr style=\"text-align: right;\">\n",
       "      <th></th>\n",
       "      <th>Store_Ratio</th>\n",
       "      <th>Basket_Ratio</th>\n",
       "      <th>Category_1</th>\n",
       "      <th>Store_Score</th>\n",
       "      <th>Category_2</th>\n",
       "      <th>Store_Presence</th>\n",
       "      <th>Score_1</th>\n",
       "      <th>Score_2</th>\n",
       "      <th>Score_3</th>\n",
       "      <th>Score_4</th>\n",
       "      <th>time</th>\n",
       "      <th>popularity</th>\n",
       "    </tr>\n",
       "  </thead>\n",
       "  <tbody>\n",
       "    <tr>\n",
       "      <th>8341</th>\n",
       "      <td>0.353</td>\n",
       "      <td>0.0717</td>\n",
       "      <td>5</td>\n",
       "      <td>-21.734</td>\n",
       "      <td>1</td>\n",
       "      <td>0.96700</td>\n",
       "      <td>0.566000</td>\n",
       "      <td>0.1160</td>\n",
       "      <td>0.2040</td>\n",
       "      <td>107.590</td>\n",
       "      <td>280750</td>\n",
       "      <td>4</td>\n",
       "    </tr>\n",
       "    <tr>\n",
       "      <th>15258</th>\n",
       "      <td>0.641</td>\n",
       "      <td>0.7320</td>\n",
       "      <td>5</td>\n",
       "      <td>-7.570</td>\n",
       "      <td>1</td>\n",
       "      <td>0.01390</td>\n",
       "      <td>0.000003</td>\n",
       "      <td>0.0620</td>\n",
       "      <td>0.7630</td>\n",
       "      <td>92.057</td>\n",
       "      <td>262107</td>\n",
       "      <td>4</td>\n",
       "    </tr>\n",
       "    <tr>\n",
       "      <th>14141</th>\n",
       "      <td>0.155</td>\n",
       "      <td>0.9750</td>\n",
       "      <td>0</td>\n",
       "      <td>-18.344</td>\n",
       "      <td>0</td>\n",
       "      <td>0.67900</td>\n",
       "      <td>0.948000</td>\n",
       "      <td>0.5250</td>\n",
       "      <td>0.0144</td>\n",
       "      <td>141.025</td>\n",
       "      <td>300360</td>\n",
       "      <td>5</td>\n",
       "    </tr>\n",
       "    <tr>\n",
       "      <th>7364</th>\n",
       "      <td>0.581</td>\n",
       "      <td>0.7600</td>\n",
       "      <td>0</td>\n",
       "      <td>-3.962</td>\n",
       "      <td>1</td>\n",
       "      <td>0.16000</td>\n",
       "      <td>0.000000</td>\n",
       "      <td>0.1830</td>\n",
       "      <td>0.5230</td>\n",
       "      <td>104.099</td>\n",
       "      <td>205787</td>\n",
       "      <td>4</td>\n",
       "    </tr>\n",
       "    <tr>\n",
       "      <th>7941</th>\n",
       "      <td>0.592</td>\n",
       "      <td>0.4210</td>\n",
       "      <td>2</td>\n",
       "      <td>-12.054</td>\n",
       "      <td>0</td>\n",
       "      <td>0.01570</td>\n",
       "      <td>0.001210</td>\n",
       "      <td>0.1870</td>\n",
       "      <td>0.2860</td>\n",
       "      <td>115.986</td>\n",
       "      <td>289986</td>\n",
       "      <td>4</td>\n",
       "    </tr>\n",
       "    <tr>\n",
       "      <th>8660</th>\n",
       "      <td>0.703</td>\n",
       "      <td>0.5940</td>\n",
       "      <td>5</td>\n",
       "      <td>-6.146</td>\n",
       "      <td>0</td>\n",
       "      <td>0.34200</td>\n",
       "      <td>0.000000</td>\n",
       "      <td>0.1230</td>\n",
       "      <td>0.4750</td>\n",
       "      <td>153.848</td>\n",
       "      <td>114893</td>\n",
       "      <td>4</td>\n",
       "    </tr>\n",
       "    <tr>\n",
       "      <th>13144</th>\n",
       "      <td>0.609</td>\n",
       "      <td>0.4450</td>\n",
       "      <td>7</td>\n",
       "      <td>-9.129</td>\n",
       "      <td>1</td>\n",
       "      <td>0.60300</td>\n",
       "      <td>0.000007</td>\n",
       "      <td>0.1040</td>\n",
       "      <td>0.1660</td>\n",
       "      <td>118.393</td>\n",
       "      <td>228707</td>\n",
       "      <td>3</td>\n",
       "    </tr>\n",
       "    <tr>\n",
       "      <th>4137</th>\n",
       "      <td>0.502</td>\n",
       "      <td>0.0152</td>\n",
       "      <td>8</td>\n",
       "      <td>-25.128</td>\n",
       "      <td>1</td>\n",
       "      <td>0.99500</td>\n",
       "      <td>0.948000</td>\n",
       "      <td>0.0826</td>\n",
       "      <td>0.4150</td>\n",
       "      <td>76.811</td>\n",
       "      <td>143000</td>\n",
       "      <td>3</td>\n",
       "    </tr>\n",
       "    <tr>\n",
       "      <th>17444</th>\n",
       "      <td>0.586</td>\n",
       "      <td>0.5220</td>\n",
       "      <td>1</td>\n",
       "      <td>-9.798</td>\n",
       "      <td>0</td>\n",
       "      <td>0.87000</td>\n",
       "      <td>0.893000</td>\n",
       "      <td>0.1100</td>\n",
       "      <td>0.3510</td>\n",
       "      <td>73.994</td>\n",
       "      <td>167027</td>\n",
       "      <td>4</td>\n",
       "    </tr>\n",
       "    <tr>\n",
       "      <th>4276</th>\n",
       "      <td>0.368</td>\n",
       "      <td>0.9500</td>\n",
       "      <td>3</td>\n",
       "      <td>-2.551</td>\n",
       "      <td>1</td>\n",
       "      <td>0.00292</td>\n",
       "      <td>0.001130</td>\n",
       "      <td>0.1460</td>\n",
       "      <td>0.7330</td>\n",
       "      <td>141.124</td>\n",
       "      <td>206753</td>\n",
       "      <td>4</td>\n",
       "    </tr>\n",
       "  </tbody>\n",
       "</table>\n",
       "</div>"
      ],
      "text/plain": [
       "       Store_Ratio  Basket_Ratio  Category_1  Store_Score  Category_2  \\\n",
       "8341         0.353        0.0717           5      -21.734           1   \n",
       "15258        0.641        0.7320           5       -7.570           1   \n",
       "14141        0.155        0.9750           0      -18.344           0   \n",
       "7364         0.581        0.7600           0       -3.962           1   \n",
       "7941         0.592        0.4210           2      -12.054           0   \n",
       "8660         0.703        0.5940           5       -6.146           0   \n",
       "13144        0.609        0.4450           7       -9.129           1   \n",
       "4137         0.502        0.0152           8      -25.128           1   \n",
       "17444        0.586        0.5220           1       -9.798           0   \n",
       "4276         0.368        0.9500           3       -2.551           1   \n",
       "\n",
       "       Store_Presence   Score_1  Score_2  Score_3  Score_4    time  popularity  \n",
       "8341          0.96700  0.566000   0.1160   0.2040  107.590  280750           4  \n",
       "15258         0.01390  0.000003   0.0620   0.7630   92.057  262107           4  \n",
       "14141         0.67900  0.948000   0.5250   0.0144  141.025  300360           5  \n",
       "7364          0.16000  0.000000   0.1830   0.5230  104.099  205787           4  \n",
       "7941          0.01570  0.001210   0.1870   0.2860  115.986  289986           4  \n",
       "8660          0.34200  0.000000   0.1230   0.4750  153.848  114893           4  \n",
       "13144         0.60300  0.000007   0.1040   0.1660  118.393  228707           3  \n",
       "4137          0.99500  0.948000   0.0826   0.4150   76.811  143000           3  \n",
       "17444         0.87000  0.893000   0.1100   0.3510   73.994  167027           4  \n",
       "4276          0.00292  0.001130   0.1460   0.7330  141.124  206753           4  "
      ]
     },
     "execution_count": 22,
     "metadata": {},
     "output_type": "execute_result"
    }
   ],
   "source": [
    "#Naive Bayes\n",
    "stan=MinMaxScaler()\n",
    "stan.fit(train[\"Store_Score\"].values.reshape(-1,1))\n",
    "time_stan_x_train=stan.fit_transform(x_train[\"Store_Score\"].values.reshape(-1,1))\n",
    "time_stan_x_cv=stan.fit_transform(x_cv[\"Store_Score\"].values.reshape(-1,1))\n",
    "time_stan_x_test=stan.fit_transform(x_test[\"Store_Score\"].values.reshape(-1,1))"
   ]
  },
  {
   "cell_type": "code",
   "execution_count": 12,
   "metadata": {},
   "outputs": [],
   "source": [
    "nbtrain=np.hstack((x_train.drop([\"popularity\",\"Store_Score\"],axis=1),time_stan_x_train))  \n",
    "nbcv=np.hstack((x_cv.drop([\"popularity\",\"Store_Score\"],axis=1),time_stan_x_cv))\n",
    "nbtest=np.hstack((x_test.drop([\"popularity\",\"Store_Score\"],axis=1),time_stan_x_test))\n",
    "    "
   ]
  },
  {
   "cell_type": "code",
   "execution_count": 25,
   "metadata": {},
   "outputs": [
    {
     "name": "stdout",
     "output_type": "stream",
     "text": [
      "for alpha 1e-05\n",
      "the loss is 0.5296715970800939\n",
      "for alpha 0.0001\n",
      "the loss is 0.5296715968068694\n",
      "for alpha 0.001\n",
      "the loss is 0.5296715940724175\n",
      "for alpha 0.1\n",
      "the loss is 0.529671293293892\n",
      "for alpha 1\n",
      "the loss is 0.5296685582996309\n",
      "for alpha 2\n",
      "the loss is 0.5296655170846901\n",
      "for alpha 3\n",
      "the loss is 0.5296624717928591\n",
      "for alpha 10\n",
      "the loss is 0.5296409562184983\n",
      "for alpha 100\n",
      "the loss is 0.5304431900263393\n",
      "for alpha 1000\n",
      "the loss is 0.567117582524048\n"
     ]
    }
   ],
   "source": [
    "#ComplementNB                                         \n",
    "cv_error=[]\n",
    "\n",
    "alpha = [0.00001, 0.0001, 0.001, 0.1, 1,2,3,10, 100,1000]\n",
    "for i in alpha:\n",
    "    print(\"for alpha\",i)\n",
    "    clf=ComplementNB(alpha=i)\n",
    "    clf.fit(nbtrain,y_train)\n",
    "    sig_clf=CalibratedClassifierCV(clf)\n",
    "    sig_clf.fit(nbtrain,y_train)\n",
    "    pred=sig_clf.predict_proba(nbcv)\n",
    "    loss=metrics.log_loss(y_cv,pred)\n",
    "    print(\"the loss is\",loss )\n",
    "    cv_error.append(loss)                                               \n",
    "    "
   ]
  },
  {
   "cell_type": "code",
   "execution_count": 65,
   "metadata": {},
   "outputs": [
    {
     "name": "stdout",
     "output_type": "stream",
     "text": [
      "log loss 0.5296715970800939\n",
      "log loss 0.5291662276943933\n"
     ]
    }
   ],
   "source": [
    "clf=ComplementNB(alpha=alpha[np.argmax(cv_error)])\n",
    "clf.fit(nbtrain,y_train)\n",
    "sig_clf=CalibratedClassifierCV(clf)\n",
    "sig_clf.fit(nbtrain,y_train)\n",
    "pred=sig_clf.predict_proba(nbcv)\n",
    "print(\"log loss\",metrics.log_loss(y_cv,pred))\n",
    "pred=sig_clf.predict_proba(nbtest)\n",
    "print(\"log loss\",metrics.log_loss(y_test,pred))"
   ]
  },
  {
   "cell_type": "code",
   "execution_count": 66,
   "metadata": {},
   "outputs": [
    {
     "data": {
      "image/png": "[encoded data removed]",
      "text/plain": [
       "<Figure size 1440x504 with 2 Axes>"
      ]
     },
     "metadata": {
      "needs_background": "light"
     },
     "output_type": "display_data"
    },
    {
     "name": "stdout",
     "output_type": "stream",
     "text": [
      "******************************\n",
      "Precision matrix\n"
     ]
    },
    {
     "data": {
      "image/png": "[encoded data removed]",
      "text/plain": [
       "<Figure size 432x288 with 2 Axes>"
      ]
     },
     "metadata": {
      "needs_background": "light"
     },
     "output_type": "display_data"
    },
    {
     "name": "stdout",
     "output_type": "stream",
     "text": [
      "******************************\n",
      "Recall matrix\n"
     ]
    },
    {
     "data": {
      "image/png": "[encoded data removed]",
      "text/plain": [
       "<Figure size 432x288 with 2 Axes>"
      ]
     },
     "metadata": {
      "needs_background": "light"
     },
     "output_type": "display_data"
    }
   ],
   "source": [
    "#plot the confusion on test data\n",
    "pred=sig_clf.predict(nbtest)\n",
    "confusion_plot(y_test,pred)"
   ]
  },
  {
   "cell_type": "markdown",
   "metadata": {},
   "source": [
    "# KNN"
   ]
  },
  {
   "cell_type": "code",
   "execution_count": 29,
   "metadata": {},
   "outputs": [],
   "source": [
    "#one hot encoding Category_1\n",
    "one=OneHotEncoder()\n",
    "one.fit(train['Category_1'].values.reshape(-1,1))\n",
    "Category_1_one_x_train=one.fit_transform(x_train[\"Category_1\"].values.reshape(-1,1)).toarray()\n",
    "Category_1_one_x_cv=one.fit_transform(x_cv[\"Category_1\"].values.reshape(-1,1)).toarray()\n",
    "Category_1_one_x_test=one.fit_transform(x_test[\"Category_1\"].values.reshape(-1,1)).toarray()\n",
    "\n",
    "\n",
    "#one hot encoding Category_2\n",
    "one=OneHotEncoder()\n",
    "one.fit(train['Category_2'].values.reshape(-1,1))\n",
    "Category_2_one_x_train=one.fit_transform(x_train[\"Category_2\"].values.reshape(-1,1)).toarray()\n",
    "Category_2_one_x_cv=one.fit_transform(x_cv[\"Category_2\"].values.reshape(-1,1)).toarray()\n",
    "Category_2_one_x_test=one.fit_transform(x_test[\"Category_2\"].values.reshape(-1,1)).toarray()\n",
    "\n",
    "\n"
   ]
  },
  {
   "cell_type": "code",
   "execution_count": 30,
   "metadata": {},
   "outputs": [],
   "source": [
    "# MinMax of  Store_Ratio\n",
    "stan=MinMaxScaler()\n",
    "stan.fit(train[\"Store_Ratio\"].values.reshape(-1,1))\n",
    "Store_Ratio_stan_x_train=stan.fit_transform(x_train[\"Store_Ratio\"].values.reshape(-1,1))\n",
    "Store_Ratio_stan_x_cv=stan.fit_transform(x_cv[\"Store_Ratio\"].values.reshape(-1,1))\n",
    "Store_Ratio_stan_x_test=stan.fit_transform(x_test[\"Store_Ratio\"].values.reshape(-1,1))\n",
    "\n",
    "# MinMax of  Basket_Ratio\n",
    "stan=MinMaxScaler()\n",
    "stan.fit(train[\"Basket_Ratio\"].values.reshape(-1,1))\n",
    "Basket_Ratio_stan_x_train=stan.fit_transform(x_train[\"Basket_Ratio\"].values.reshape(-1,1))\n",
    "Basket_Ratio_stan_x_cv=stan.fit_transform(x_cv[\"Basket_Ratio\"].values.reshape(-1,1))\n",
    "Basket_Ratio_stan_x_test=stan.fit_transform(x_test[\"Basket_Ratio\"].values.reshape(-1,1))\n",
    "\n",
    "# MinMax of  Store_Score\n",
    "stan=MinMaxScaler()\n",
    "stan.fit(train[\"Store_Score\"].values.reshape(-1,1))\n",
    "Store_Score_stan_x_train=stan.fit_transform(x_train[\"Store_Score\"].values.reshape(-1,1))\n",
    "Store_Score_stan_x_cv=stan.fit_transform(x_cv[\"Store_Score\"].values.reshape(-1,1))\n",
    "Store_Score_stan_x_test=stan.fit_transform(x_test[\"Store_Score\"].values.reshape(-1,1))\n",
    "\n",
    "\n",
    "# MinMax of  Store_Presence\n",
    "stan=MinMaxScaler()\n",
    "stan.fit(train[\"Store_Presence\"].values.reshape(-1,1))\n",
    "Store_Presence_stan_x_train=stan.fit_transform(x_train[\"Store_Presence\"].values.reshape(-1,1))\n",
    "Store_Presence_stan_x_cv=stan.fit_transform(x_cv[\"Store_Presence\"].values.reshape(-1,1))\n",
    "Store_Presence_stan_x_test=stan.fit_transform(x_test[\"Store_Presence\"].values.reshape(-1,1))\n",
    "\n",
    "# MinMax of  Score_1\n",
    "stan=MinMaxScaler()\n",
    "stan.fit(train[\"Score_1\"].values.reshape(-1,1))\n",
    "Score_1_stan_x_train=stan.fit_transform(x_train[\"Score_1\"].values.reshape(-1,1))\n",
    "Score_1_stan_x_cv=stan.fit_transform(x_cv[\"Score_1\"].values.reshape(-1,1))\n",
    "Score_1_stan_x_test=stan.fit_transform(x_test[\"Score_1\"].values.reshape(-1,1))\n",
    "\n",
    "# MinMax of  Score_2\n",
    "stan=MinMaxScaler()\n",
    "stan.fit(train[\"Score_2\"].values.reshape(-1,1))\n",
    "Score_2_stan_x_train=stan.fit_transform(x_train[\"Score_2\"].values.reshape(-1,1))\n",
    "Score_2_stan_x_cv=stan.fit_transform(x_cv[\"Score_2\"].values.reshape(-1,1))\n",
    "Score_2_stan_x_test=stan.fit_transform(x_test[\"Score_2\"].values.reshape(-1,1))\n",
    "\n",
    "# MinMax of  Score_3\n",
    "stan=MinMaxScaler()\n",
    "stan.fit(train[\"Score_3\"].values.reshape(-1,1))\n",
    "Score_3_stan_x_train=stan.fit_transform(x_train[\"Score_3\"].values.reshape(-1,1))\n",
    "Score_3_stan_x_cv=stan.fit_transform(x_cv[\"Score_3\"].values.reshape(-1,1))\n",
    "Score_3_stan_x_test=stan.fit_transform(x_test[\"Score_3\"].values.reshape(-1,1))\n",
    "\n",
    "# MinMax of  Score_4\n",
    "stan=MinMaxScaler()\n",
    "stan.fit(train[\"Score_4\"].values.reshape(-1,1))\n",
    "Score_4_stan_x_train=stan.fit_transform(x_train[\"Score_4\"].values.reshape(-1,1))\n",
    "Score_4_stan_x_cv=stan.fit_transform(x_cv[\"Score_4\"].values.reshape(-1,1))\n",
    "Score_4_stan_x_test=stan.fit_transform(x_test[\"Score_4\"].values.reshape(-1,1))\n",
    "\n",
    "# MinMax of  time\n",
    "stan=MinMaxScaler()\n",
    "stan.fit(train[\"time\"].values.reshape(-1,1))\n",
    "time_stan_x_train=stan.fit_transform(x_train[\"time\"].values.reshape(-1,1))\n",
    "time_stan_x_cv=stan.fit_transform(x_cv[\"time\"].values.reshape(-1,1))\n",
    "time_stan_x_test=stan.fit_transform(x_test[\"time\"].values.reshape(-1,1))\n",
    "\n",
    "# MinMax of  time\n",
    "stan=MinMaxScaler()\n",
    "stan.fit(train[\"time\"].values.reshape(-1,1))\n",
    "time_stan_x_train=stan.fit_transform(x_train[\"time\"].values.reshape(-1,1))\n",
    "time_stan_x_cv=stan.fit_transform(x_cv[\"time\"].values.reshape(-1,1))\n",
    "time_stan_x_test=stan.fit_transform(x_test[\"time\"].values.reshape(-1,1))\n"
   ]
  },
  {
   "cell_type": "code",
   "execution_count": 35,
   "metadata": {},
   "outputs": [
    {
     "name": "stdout",
     "output_type": "stream",
     "text": [
      "shape of train (11652, 23)\n",
      "shape of cv (2914, 23)\n",
      "shape of test (3642, 23)\n"
     ]
    }
   ],
   "source": [
    "#combining all the columns\n",
    "t=np.hstack((Store_Ratio_stan_x_train,Basket_Ratio_stan_x_train,Category_1_one_x_train,Store_Score_stan_x_train,Category_2_one_x_train,Store_Presence_stan_x_train,Score_1_stan_x_train,Score_2_stan_x_train,Score_3_stan_x_train,Score_4_stan_x_train,time_stan_x_train))\n",
    "cv=np.hstack((Store_Ratio_stan_x_cv,Basket_Ratio_stan_x_cv,Category_1_one_x_cv,Store_Score_stan_x_cv,Category_2_one_x_cv,Store_Presence_stan_x_cv,Score_1_stan_x_cv,Score_2_stan_x_cv,Score_3_stan_x_cv,Score_4_stan_x_cv,time_stan_x_cv))\n",
    "test=np.hstack((Store_Ratio_stan_x_test,Basket_Ratio_stan_x_test,Category_1_one_x_test,Store_Score_stan_x_test,Category_2_one_x_test,Store_Presence_stan_x_test,Score_1_stan_x_test,Score_2_stan_x_test,Score_3_stan_x_test,Score_4_stan_x_test,time_stan_x_test))\n",
    "\n",
    "print(\"shape of train\",t.shape)\n",
    "print(\"shape of cv\",cv.shape)\n",
    "print(\"shape of test\",test.shape)\n",
    "\n"
   ]
  },
  {
   "cell_type": "code",
   "execution_count": 70,
   "metadata": {},
   "outputs": [
    {
     "name": "stdout",
     "output_type": "stream",
     "text": [
      "for n_neighbors 34\n",
      "the loss is 0.4693101685274165\n",
      "for n_neighbors 35\n",
      "the loss is 0.4693122104904654\n",
      "for n_neighbors 36\n",
      "the loss is 0.46940073406517246\n",
      "for n_neighbors 37\n",
      "the loss is 0.4695639305588115\n",
      "for n_neighbors 38\n",
      "the loss is 0.469586273203915\n",
      "for n_neighbors 39\n",
      "the loss is 0.46960846901056236\n"
     ]
    }
   ],
   "source": [
    "#KNN                                         \n",
    "cv_error=[]\n",
    "n_neighbors = [34,35,36,37,38,39]\n",
    "for i in n_neighbors:\n",
    "    print(\"for n_neighbors\",i)\n",
    "    clf=KNeighborsClassifier(n_neighbors=i,weights='distance',metric='euclidean',n_jobs=-1)\n",
    "    clf.fit(t,y_train)\n",
    "    sig_clf=CalibratedClassifierCV(clf)\n",
    "    sig_clf.fit(t,y_train)\n",
    "    pred=sig_clf.predict_proba(cv)\n",
    "    loss=metrics.log_loss(y_cv,pred)\n",
    "    print(\"the loss is\",loss )\n",
    "    cv_error.append(loss)                                               \n",
    "    "
   ]
  },
  {
   "cell_type": "code",
   "execution_count": 71,
   "metadata": {},
   "outputs": [
    {
     "data": {
      "image/png": "[encoded data removed]",
      "text/plain": [
       "<Figure size 432x288 with 1 Axes>"
      ]
     },
     "metadata": {
      "needs_background": "light"
     },
     "output_type": "display_data"
    }
   ],
   "source": [
    "\n",
    "fig, ax = plt.subplots()\n",
    "ax.plot(n_neighbors, cv_error,c='g')\n",
    "for i, txt in enumerate(np.round(cv_error,3)):\n",
    "    ax.annotate((n_neighbors[i],np.round(txt,3)), (n_neighbors[i],cv_error[i]))\n",
    "plt.grid()\n",
    "plt.title(\"Cross Validation Error for each alpha\")\n",
    "plt.xlabel(\"Alpha i's\")\n",
    "plt.ylabel(\"Error measure\")\n",
    "plt.show()"
   ]
  },
  {
   "cell_type": "code",
   "execution_count": 79,
   "metadata": {},
   "outputs": [
    {
     "name": "stdout",
     "output_type": "stream",
     "text": [
      "the log loss of cv is 0.4693101685274165\n",
      "the log loss of test is 0.47969264026019687\n"
     ]
    }
   ],
   "source": [
    "#predicting with best hyperparameters\n",
    "clf =KNeighborsClassifier(n_neighbors=34,weights='distance',metric='euclidean',n_jobs=-1)\n",
    "clf.fit(t,y_train)\n",
    "sig_clf=CalibratedClassifierCV(clf)\n",
    "sig_clf.fit(t,y_train)\n",
    "pred=sig_clf.predict_proba(cv)\n",
    "print('the log loss of cv is',metrics.log_loss(y_cv,pred))\n",
    "pred=sig_clf.predict_proba(test)\n",
    "print('the log loss of test is',metrics.log_loss(y_test,pred))"
   ]
  },
  {
   "cell_type": "code",
   "execution_count": 80,
   "metadata": {},
   "outputs": [
    {
     "data": {
      "image/png": "[encoded data removed]",
      "text/plain": [
       "<Figure size 1440x504 with 2 Axes>"
      ]
     },
     "metadata": {
      "needs_background": "light"
     },
     "output_type": "display_data"
    },
    {
     "name": "stdout",
     "output_type": "stream",
     "text": [
      "******************************\n",
      "Precision matrix\n"
     ]
    },
    {
     "data": {
      "image/png": "[encoded data removed]",
      "text/plain": [
       "<Figure size 432x288 with 2 Axes>"
      ]
     },
     "metadata": {
      "needs_background": "light"
     },
     "output_type": "display_data"
    },
    {
     "name": "stdout",
     "output_type": "stream",
     "text": [
      "******************************\n",
      "Recall matrix\n"
     ]
    },
    {
     "data": {
      "image/png": "[encoded data removed]",
      "text/plain": [
       "<Figure size 432x288 with 2 Axes>"
      ]
     },
     "metadata": {
      "needs_background": "light"
     },
     "output_type": "display_data"
    }
   ],
   "source": [
    "#plot the confusion on test data\n",
    "pred=sig_clf.predict(test)\n",
    "confusion_plot(y_test,pred)"
   ]
  },
  {
   "cell_type": "markdown",
   "metadata": {},
   "source": [
    "# Decision Tree"
   ]
  },
  {
   "cell_type": "code",
   "execution_count": 95,
   "metadata": {},
   "outputs": [
    {
     "name": "stdout",
     "output_type": "stream",
     "text": [
      "for max_depth 26\n",
      "the loss is 0.4820701329123526\n",
      "for max_depth 28\n",
      "the loss is 0.47950215392665885\n",
      "for max_depth 30\n",
      "the loss is 0.4775457127039265\n",
      "for max_depth 32\n",
      "the loss is 0.47901193633647904\n",
      "for max_depth 34\n",
      "the loss is 0.47901193633647904\n"
     ]
    }
   ],
   "source": [
    "# Decision Trees\n",
    "max_depth=[26,28,30,32,34]\n",
    "cv_error=[]\n",
    "for i in max_depth:\n",
    "    print(\"for max_depth\",i)\n",
    "    clf=DecisionTreeClassifier(max_depth=i,random_state=1,class_weight='balanced')\n",
    "    clf.fit(x_train.drop([\"popularity\"],axis=1),y_train)\n",
    "    sig_clf=CalibratedClassifierCV(clf)\n",
    "    sig_clf.fit(x_train.drop([\"popularity\"],axis=1),y_train)\n",
    "    pred=sig_clf.predict_proba(x_cv.drop([\"popularity\"],axis=1))\n",
    "    loss=metrics.log_loss(y_cv,pred)\n",
    "    print(\"the loss is\",loss )\n",
    "    cv_error.append(loss) \n",
    "    "
   ]
  },
  {
   "cell_type": "code",
   "execution_count": 96,
   "metadata": {},
   "outputs": [
    {
     "data": {
      "image/png": "[encoded data removed]",
      "text/plain": [
       "<Figure size 432x288 with 1 Axes>"
      ]
     },
     "metadata": {
      "needs_background": "light"
     },
     "output_type": "display_data"
    }
   ],
   "source": [
    "\n",
    "fig, ax = plt.subplots()\n",
    "ax.plot(max_depth, cv_error,c='g')\n",
    "for i, txt in enumerate(np.round(cv_error,3)):\n",
    "    ax.annotate((max_depth[i],np.round(txt,3)), (max_depth[i],cv_error[i]))\n",
    "plt.grid()\n",
    "plt.title(\"Cross Validation Error for each alpha\")\n",
    "plt.xlabel(\"Alpha i's\")\n",
    "plt.ylabel(\"Error measure\")\n",
    "plt.show()"
   ]
  },
  {
   "cell_type": "code",
   "execution_count": 98,
   "metadata": {},
   "outputs": [
    {
     "name": "stdout",
     "output_type": "stream",
     "text": [
      "loss of cv 0.4775457127039265\n",
      "loss of test 0.4764339601530611\n"
     ]
    }
   ],
   "source": [
    "clf=DecisionTreeClassifier(max_depth=30,random_state=1,class_weight='balanced')\n",
    "clf.fit(x_train.drop([\"popularity\"],axis=1),y_train)\n",
    "sig_clf=CalibratedClassifierCV(clf)\n",
    "sig_clf.fit(x_train.drop([\"popularity\"],axis=1),y_train)\n",
    "pred=sig_clf.predict_proba(x_cv.drop([\"popularity\"],axis=1))\n",
    "print(\"loss of cv\",metrics.log_loss(y_cv,pred))\n",
    "pred=sig_clf.predict_proba(x_test.drop([\"popularity\"],axis=1))\n",
    "print(\"loss of test\",metrics.log_loss(y_test,pred))"
   ]
  },
  {
   "cell_type": "code",
   "execution_count": 99,
   "metadata": {},
   "outputs": [
    {
     "data": {
      "image/png": "[encoded data removed]",
      "text/plain": [
       "<Figure size 1440x504 with 2 Axes>"
      ]
     },
     "metadata": {
      "needs_background": "light"
     },
     "output_type": "display_data"
    },
    {
     "name": "stdout",
     "output_type": "stream",
     "text": [
      "******************************\n",
      "Precision matrix\n"
     ]
    },
    {
     "data": {
      "image/png": "[encoded data removed]",
      "text/plain": [
       "<Figure size 432x288 with 2 Axes>"
      ]
     },
     "metadata": {
      "needs_background": "light"
     },
     "output_type": "display_data"
    },
    {
     "name": "stdout",
     "output_type": "stream",
     "text": [
      "******************************\n",
      "Recall matrix\n"
     ]
    },
    {
     "data": {
      "image/png": "[encoded data removed]",
      "text/plain": [
       "<Figure size 432x288 with 2 Axes>"
      ]
     },
     "metadata": {
      "needs_background": "light"
     },
     "output_type": "display_data"
    }
   ],
   "source": [
    "#plot the confusion on test data\n",
    "pred=sig_clf.predict(x_test.drop([\"popularity\"],axis=1))\n",
    "confusion_plot(y_test,pred)"
   ]
  },
  {
   "cell_type": "markdown",
   "metadata": {},
   "source": [
    "# Random forest"
   ]
  },
  {
   "cell_type": "code",
   "execution_count": 12,
   "metadata": {},
   "outputs": [
    {
     "name": "stderr",
     "output_type": "stream",
     "text": [
      "\u001b[32m[I 2021-03-16 12:06:15,658]\u001b[0m A new study created in memory with name: no-name-d1125825-40a5-4362-9d43-e2835b4abd50\u001b[0m\n",
      "\u001b[32m[I 2021-03-16 12:07:04,546]\u001b[0m Trial 0 finished with value: 0.3949733367522015 and parameters: {'n_estimators': 600, 'max_depth': 37}. Best is trial 0 with value: 0.3949733367522015.\u001b[0m\n",
      "\u001b[32m[I 2021-03-16 12:07:33,614]\u001b[0m Trial 1 finished with value: 0.3956192773500914 and parameters: {'n_estimators': 400, 'max_depth': 33}. Best is trial 0 with value: 0.3949733367522015.\u001b[0m\n",
      "\u001b[32m[I 2021-03-16 12:08:21,491]\u001b[0m Trial 2 finished with value: 0.3949722321793791 and parameters: {'n_estimators': 600, 'max_depth': 33}. Best is trial 2 with value: 0.3949722321793791.\u001b[0m\n",
      "\u001b[32m[I 2021-03-16 12:09:05,778]\u001b[0m Trial 3 finished with value: 0.3948802653180224 and parameters: {'n_estimators': 500, 'max_depth': 36}. Best is trial 3 with value: 0.3948802653180224.\u001b[0m\n",
      "\u001b[32m[I 2021-03-16 12:09:46,014]\u001b[0m Trial 4 finished with value: 0.3948802653180224 and parameters: {'n_estimators': 500, 'max_depth': 36}. Best is trial 3 with value: 0.3948802653180224.\u001b[0m\n",
      "\u001b[32m[I 2021-03-16 12:10:32,835]\u001b[0m Trial 5 finished with value: 0.39493741339807537 and parameters: {'n_estimators': 500, 'max_depth': 33}. Best is trial 3 with value: 0.3948802653180224.\u001b[0m\n",
      "\u001b[32m[I 2021-03-16 12:11:28,999]\u001b[0m Trial 6 finished with value: 0.3949733367522015 and parameters: {'n_estimators': 600, 'max_depth': 37}. Best is trial 3 with value: 0.3948802653180224.\u001b[0m\n",
      "\u001b[32m[I 2021-03-16 12:12:14,087]\u001b[0m Trial 7 finished with value: 0.39493741339807537 and parameters: {'n_estimators': 500, 'max_depth': 33}. Best is trial 3 with value: 0.3948802653180224.\u001b[0m\n",
      "\u001b[32m[I 2021-03-16 12:12:46,971]\u001b[0m Trial 8 finished with value: 0.3948802653180224 and parameters: {'n_estimators': 500, 'max_depth': 36}. Best is trial 3 with value: 0.3948802653180224.\u001b[0m\n",
      "\u001b[32m[I 2021-03-16 12:13:18,674]\u001b[0m Trial 9 finished with value: 0.3948790600214616 and parameters: {'n_estimators': 500, 'max_depth': 35}. Best is trial 9 with value: 0.3948790600214616.\u001b[0m\n",
      "\u001b[32m[I 2021-03-16 12:13:44,140]\u001b[0m Trial 10 finished with value: 0.39557788318306836 and parameters: {'n_estimators': 400, 'max_depth': 35}. Best is trial 9 with value: 0.3948790600214616.\u001b[0m\n",
      "\u001b[32m[I 2021-03-16 12:14:15,875]\u001b[0m Trial 11 finished with value: 0.3948790600214616 and parameters: {'n_estimators': 500, 'max_depth': 35}. Best is trial 9 with value: 0.3948790600214616.\u001b[0m\n",
      "\u001b[32m[I 2021-03-16 12:14:47,065]\u001b[0m Trial 12 finished with value: 0.3948790600214616 and parameters: {'n_estimators': 500, 'max_depth': 35}. Best is trial 9 with value: 0.3948790600214616.\u001b[0m\n",
      "\u001b[32m[I 2021-03-16 12:15:18,932]\u001b[0m Trial 13 finished with value: 0.3948790600214616 and parameters: {'n_estimators': 500, 'max_depth': 35}. Best is trial 9 with value: 0.3948790600214616.\u001b[0m\n",
      "\u001b[32m[I 2021-03-16 12:15:50,820]\u001b[0m Trial 14 finished with value: 0.39493018508306194 and parameters: {'n_estimators': 500, 'max_depth': 34}. Best is trial 9 with value: 0.3948790600214616.\u001b[0m\n",
      "\u001b[32m[I 2021-03-16 12:16:16,315]\u001b[0m Trial 15 finished with value: 0.39557788318306836 and parameters: {'n_estimators': 400, 'max_depth': 35}. Best is trial 9 with value: 0.3948790600214616.\u001b[0m\n",
      "\u001b[32m[I 2021-03-16 12:16:48,333]\u001b[0m Trial 16 finished with value: 0.3948790600214616 and parameters: {'n_estimators': 500, 'max_depth': 35}. Best is trial 9 with value: 0.3948790600214616.\u001b[0m\n",
      "\u001b[32m[I 2021-03-16 12:17:20,373]\u001b[0m Trial 17 finished with value: 0.3948790600214616 and parameters: {'n_estimators': 500, 'max_depth': 35}. Best is trial 9 with value: 0.3948790600214616.\u001b[0m\n",
      "\u001b[32m[I 2021-03-16 12:17:52,476]\u001b[0m Trial 18 finished with value: 0.39493018508306194 and parameters: {'n_estimators': 500, 'max_depth': 34}. Best is trial 9 with value: 0.3948790600214616.\u001b[0m\n",
      "\u001b[32m[I 2021-03-16 12:18:18,352]\u001b[0m Trial 19 finished with value: 0.39557788318306836 and parameters: {'n_estimators': 400, 'max_depth': 35}. Best is trial 9 with value: 0.3948790600214616.\u001b[0m\n",
      "\u001b[32m[I 2021-03-16 12:18:56,969]\u001b[0m Trial 20 finished with value: 0.39495676074760216 and parameters: {'n_estimators': 600, 'max_depth': 35}. Best is trial 9 with value: 0.3948790600214616.\u001b[0m\n",
      "\u001b[32m[I 2021-03-16 12:19:29,669]\u001b[0m Trial 21 finished with value: 0.3948790600214616 and parameters: {'n_estimators': 500, 'max_depth': 35}. Best is trial 9 with value: 0.3948790600214616.\u001b[0m\n",
      "\u001b[32m[I 2021-03-16 12:20:02,212]\u001b[0m Trial 22 finished with value: 0.3948790600214616 and parameters: {'n_estimators': 500, 'max_depth': 35}. Best is trial 9 with value: 0.3948790600214616.\u001b[0m\n",
      "\u001b[32m[I 2021-03-16 12:20:34,693]\u001b[0m Trial 23 finished with value: 0.3948790600214616 and parameters: {'n_estimators': 500, 'max_depth': 35}. Best is trial 9 with value: 0.3948790600214616.\u001b[0m\n",
      "\u001b[32m[I 2021-03-16 12:21:06,876]\u001b[0m Trial 24 finished with value: 0.3948790600214616 and parameters: {'n_estimators': 500, 'max_depth': 35}. Best is trial 9 with value: 0.3948790600214616.\u001b[0m\n"
     ]
    }
   ],
   "source": [
    "#Random_forest\n",
    "def objective(trial):\n",
    "      n_estimators = trial.suggest_categorical('n_estimators', [400,500,600])\n",
    "      max_depth = trial.suggest_categorical('max_depth', [33,34,35,36,37])\n",
    "      clf =RandomForestClassifier(n_estimators=n_estimators,max_depth=max_depth,class_weight='balanced',random_state=1,n_jobs=-1)\n",
    "      clf.fit(x_train.drop([\"popularity\"],axis=1),y_train)\n",
    "      sig_clf=CalibratedClassifierCV(clf)\n",
    "      sig_clf.fit(x_train.drop([\"popularity\"],axis=1),y_train)\n",
    "      pred=sig_clf.predict_proba(x_cv.drop([\"popularity\"],axis=1))\n",
    "      return metrics.log_loss(y_cv,pred)\n",
    "study = optuna.create_study(direction='minimize')\n",
    "study.optimize(objective, n_trials=25)"
   ]
  },
  {
   "cell_type": "code",
   "execution_count": 13,
   "metadata": {},
   "outputs": [
    {
     "name": "stdout",
     "output_type": "stream",
     "text": [
      "loss of cv 0.3948790600214616\n",
      "loss of test 0.38661494578081534\n"
     ]
    }
   ],
   "source": [
    "clf=RandomForestClassifier(n_estimators=500,max_depth=35,class_weight='balanced',random_state=1,n_jobs=-1)\n",
    "clf.fit(x_train.drop([\"popularity\"],axis=1),y_train)\n",
    "sig_clf=CalibratedClassifierCV(clf)\n",
    "sig_clf.fit(x_train.drop([\"popularity\"],axis=1),y_train)\n",
    "pred=sig_clf.predict_proba(x_cv.drop([\"popularity\"],axis=1))\n",
    "print(\"loss of cv\",metrics.log_loss(y_cv,pred))\n",
    "pred=sig_clf.predict_proba(x_test.drop([\"popularity\"],axis=1))\n",
    "print(\"loss of test\",metrics.log_loss(y_test,pred))"
   ]
  },
  {
   "cell_type": "code",
   "execution_count": 14,
   "metadata": {},
   "outputs": [
    {
     "data": {
      "image/png": "[encoded data removed]",
      "text/plain": [
       "<Figure size 1440x504 with 2 Axes>"
      ]
     },
     "metadata": {
      "needs_background": "light"
     },
     "output_type": "display_data"
    },
    {
     "name": "stdout",
     "output_type": "stream",
     "text": [
      "******************************\n",
      "Precision matrix\n"
     ]
    },
    {
     "data": {
      "image/png": "[encoded data removed]",
      "text/plain": [
       "<Figure size 432x288 with 2 Axes>"
      ]
     },
     "metadata": {
      "needs_background": "light"
     },
     "output_type": "display_data"
    },
    {
     "name": "stdout",
     "output_type": "stream",
     "text": [
      "******************************\n",
      "Recall matrix\n"
     ]
    },
    {
     "data": {
      "image/png": "[encoded data removed]",
      "text/plain": [
       "<Figure size 432x288 with 2 Axes>"
      ]
     },
     "metadata": {
      "needs_background": "light"
     },
     "output_type": "display_data"
    }
   ],
   "source": [
    "#plot the confusion on test data\n",
    "pred=sig_clf.predict(x_test.drop([\"popularity\"],axis=1))\n",
    "confusion_plot(y_test,pred)"
   ]
  },
  {
   "cell_type": "markdown",
   "metadata": {},
   "source": [
    "# XGboost "
   ]
  },
  {
   "cell_type": "code",
   "execution_count": 20,
   "metadata": {},
   "outputs": [
    {
     "name": "stdout",
     "output_type": "stream",
     "text": [
      "loss of cv for alpha 1e-05 is 0.5063146818725232\n",
      "loss of cv for alpha 0.0001 is 0.48381254019438996\n",
      "loss of cv for alpha 0.001 is 0.4830977194520863\n",
      "loss of cv for alpha 0.01 is 0.47068790097689744\n",
      "loss of cv for alpha 0.1 is 0.44595003878680645\n",
      "loss of cv for alpha 1 is 0.44525457165408255\n",
      "loss of cv for alpha 10 is 0.5613172717530407\n",
      "loss of cv for alpha 100 is 0.5729866606909749\n"
     ]
    }
   ],
   "source": [
    "alpha=[1e-05, 0.0001, 0.001, 0.01, 0.1, 1, 10, 100]\n",
    "for i in alpha:\n",
    "    clf=xgb.XGBClassifier(random_state=1,learning_rate=i)\n",
    "    clf.fit(x_train.drop([\"popularity\"],axis=1),y_train)\n",
    "    sig_clf=CalibratedClassifierCV(clf)\n",
    "    sig_clf.fit(x_train.drop([\"popularity\"],axis=1),y_train)\n",
    "    pred=sig_clf.predict_proba(x_cv.drop([\"popularity\"],axis=1))\n",
    "    print(f\"loss of cv for alpha {i} is {metrics.log_loss(y_cv,pred)}\")"
   ]
  },
  {
   "cell_type": "code",
   "execution_count": 21,
   "metadata": {},
   "outputs": [
    {
     "name": "stdout",
     "output_type": "stream",
     "text": [
      "loss of cv  is 0.44525457165408255\n",
      "loss of test 0.4302577847668829\n"
     ]
    }
   ],
   "source": [
    "clf=xgb.XGBClassifier(random_state=1,learning_rate=1)\n",
    "clf.fit(x_train.drop([\"popularity\"],axis=1),y_train)\n",
    "sig_clf=CalibratedClassifierCV(clf)\n",
    "sig_clf.fit(x_train.drop([\"popularity\"],axis=1),y_train)\n",
    "pred=sig_clf.predict_proba(x_cv.drop([\"popularity\"],axis=1))\n",
    "print(f\"loss of cv  is {metrics.log_loss(y_cv,pred)}\")\n",
    "pred=sig_clf.predict_proba(x_test.drop([\"popularity\"],axis=1))\n",
    "print(\"loss of test\",metrics.log_loss(y_test,pred))"
   ]
  },
  {
   "cell_type": "code",
   "execution_count": 22,
   "metadata": {},
   "outputs": [
    {
     "data": {
      "image/png": "[encoded data removed]",
      "text/plain": [
       "<Figure size 1440x504 with 2 Axes>"
      ]
     },
     "metadata": {
      "needs_background": "light"
     },
     "output_type": "display_data"
    },
    {
     "name": "stdout",
     "output_type": "stream",
     "text": [
      "******************************\n",
      "Precision matrix\n"
     ]
    },
    {
     "data": {
      "image/png": "[encoded data removed]",
      "text/plain": [
       "<Figure size 432x288 with 2 Axes>"
      ]
     },
     "metadata": {
      "needs_background": "light"
     },
     "output_type": "display_data"
    },
    {
     "name": "stdout",
     "output_type": "stream",
     "text": [
      "******************************\n",
      "Recall matrix\n"
     ]
    },
    {
     "data": {
      "image/png": "[encoded data removed]",
      "text/plain": [
       "<Figure size 432x288 with 2 Axes>"
      ]
     },
     "metadata": {
      "needs_background": "light"
     },
     "output_type": "display_data"
    }
   ],
   "source": [
    "#plot the confusion on test data\n",
    "pred=sig_clf.predict(x_test.drop([\"popularity\"],axis=1))\n",
    "confusion_plot(y_test,pred)"
   ]
  },
  {
   "cell_type": "markdown",
   "metadata": {},
   "source": [
    "Observations\n",
    "\n",
    "From all  models we can say that random_forest is the best model in point of the accuracy \n",
    "\n",
    "Lets try adding some new features to data andcheck whether accuracy will increase or not\n"
   ]
  },
  {
   "cell_type": "code",
   "execution_count": 4,
   "metadata": {},
   "outputs": [
    {
     "data": {
      "text/html": [
       "<div>\n",
       "<style scoped>\n",
       "    .dataframe tbody tr th:only-of-type {\n",
       "        vertical-align: middle;\n",
       "    }\n",
       "\n",
       "    .dataframe tbody tr th {\n",
       "        vertical-align: top;\n",
       "    }\n",
       "\n",
       "    .dataframe thead th {\n",
       "        text-align: right;\n",
       "    }\n",
       "</style>\n",
       "<table border=\"1\" class=\"dataframe\">\n",
       "  <thead>\n",
       "    <tr style=\"text-align: right;\">\n",
       "      <th></th>\n",
       "      <th>Store_Ratio</th>\n",
       "      <th>Basket_Ratio</th>\n",
       "      <th>Category_1</th>\n",
       "      <th>Store_Score</th>\n",
       "      <th>Category_2</th>\n",
       "      <th>Store_Presence</th>\n",
       "      <th>Score_1</th>\n",
       "      <th>Score_2</th>\n",
       "      <th>Score_3</th>\n",
       "      <th>Score_4</th>\n",
       "      <th>time</th>\n",
       "      <th>popularity</th>\n",
       "    </tr>\n",
       "  </thead>\n",
       "  <tbody>\n",
       "    <tr>\n",
       "      <th>0</th>\n",
       "      <td>0.407</td>\n",
       "      <td>0.00380</td>\n",
       "      <td>2</td>\n",
       "      <td>-35.865</td>\n",
       "      <td>1</td>\n",
       "      <td>0.9920</td>\n",
       "      <td>0.94400</td>\n",
       "      <td>0.0988</td>\n",
       "      <td>0.1100</td>\n",
       "      <td>113.911</td>\n",
       "      <td>189125</td>\n",
       "      <td>4</td>\n",
       "    </tr>\n",
       "    <tr>\n",
       "      <th>1</th>\n",
       "      <td>0.234</td>\n",
       "      <td>0.10500</td>\n",
       "      <td>0</td>\n",
       "      <td>-19.884</td>\n",
       "      <td>1</td>\n",
       "      <td>0.9440</td>\n",
       "      <td>0.90000</td>\n",
       "      <td>0.1290</td>\n",
       "      <td>0.0382</td>\n",
       "      <td>76.332</td>\n",
       "      <td>186513</td>\n",
       "      <td>4</td>\n",
       "    </tr>\n",
       "    <tr>\n",
       "      <th>2</th>\n",
       "      <td>0.668</td>\n",
       "      <td>0.72600</td>\n",
       "      <td>9</td>\n",
       "      <td>-7.512</td>\n",
       "      <td>1</td>\n",
       "      <td>0.0387</td>\n",
       "      <td>0.00000</td>\n",
       "      <td>0.1340</td>\n",
       "      <td>0.4530</td>\n",
       "      <td>124.075</td>\n",
       "      <td>172143</td>\n",
       "      <td>4</td>\n",
       "    </tr>\n",
       "    <tr>\n",
       "      <th>3</th>\n",
       "      <td>0.184</td>\n",
       "      <td>0.00561</td>\n",
       "      <td>4</td>\n",
       "      <td>-34.357</td>\n",
       "      <td>1</td>\n",
       "      <td>0.8490</td>\n",
       "      <td>0.93100</td>\n",
       "      <td>0.1110</td>\n",
       "      <td>0.0641</td>\n",
       "      <td>79.037</td>\n",
       "      <td>184000</td>\n",
       "      <td>5</td>\n",
       "    </tr>\n",
       "    <tr>\n",
       "      <th>4</th>\n",
       "      <td>0.231</td>\n",
       "      <td>0.13100</td>\n",
       "      <td>6</td>\n",
       "      <td>-22.842</td>\n",
       "      <td>1</td>\n",
       "      <td>0.9370</td>\n",
       "      <td>0.00000</td>\n",
       "      <td>0.1090</td>\n",
       "      <td>0.0677</td>\n",
       "      <td>109.560</td>\n",
       "      <td>186507</td>\n",
       "      <td>3</td>\n",
       "    </tr>\n",
       "    <tr>\n",
       "      <th>5</th>\n",
       "      <td>0.756</td>\n",
       "      <td>0.60900</td>\n",
       "      <td>3</td>\n",
       "      <td>-7.927</td>\n",
       "      <td>1</td>\n",
       "      <td>0.2170</td>\n",
       "      <td>0.00474</td>\n",
       "      <td>0.0960</td>\n",
       "      <td>0.5370</td>\n",
       "      <td>117.023</td>\n",
       "      <td>155720</td>\n",
       "      <td>4</td>\n",
       "    </tr>\n",
       "    <tr>\n",
       "      <th>6</th>\n",
       "      <td>0.398</td>\n",
       "      <td>0.03360</td>\n",
       "      <td>10</td>\n",
       "      <td>-30.369</td>\n",
       "      <td>1</td>\n",
       "      <td>0.9960</td>\n",
       "      <td>0.96200</td>\n",
       "      <td>0.1300</td>\n",
       "      <td>0.6120</td>\n",
       "      <td>72.166</td>\n",
       "      <td>134500</td>\n",
       "      <td>4</td>\n",
       "    </tr>\n",
       "    <tr>\n",
       "      <th>7</th>\n",
       "      <td>0.717</td>\n",
       "      <td>0.69900</td>\n",
       "      <td>5</td>\n",
       "      <td>-5.665</td>\n",
       "      <td>0</td>\n",
       "      <td>0.2230</td>\n",
       "      <td>0.00000</td>\n",
       "      <td>0.1390</td>\n",
       "      <td>0.6890</td>\n",
       "      <td>100.147</td>\n",
       "      <td>186600</td>\n",
       "      <td>4</td>\n",
       "    </tr>\n",
       "    <tr>\n",
       "      <th>8</th>\n",
       "      <td>0.419</td>\n",
       "      <td>0.57400</td>\n",
       "      <td>4</td>\n",
       "      <td>-12.221</td>\n",
       "      <td>0</td>\n",
       "      <td>0.1020</td>\n",
       "      <td>0.46200</td>\n",
       "      <td>0.8950</td>\n",
       "      <td>0.3450</td>\n",
       "      <td>129.260</td>\n",
       "      <td>685880</td>\n",
       "      <td>4</td>\n",
       "    </tr>\n",
       "    <tr>\n",
       "      <th>9</th>\n",
       "      <td>0.705</td>\n",
       "      <td>0.22100</td>\n",
       "      <td>3</td>\n",
       "      <td>-11.474</td>\n",
       "      <td>0</td>\n",
       "      <td>0.9380</td>\n",
       "      <td>0.90600</td>\n",
       "      <td>0.1110</td>\n",
       "      <td>0.3840</td>\n",
       "      <td>84.962</td>\n",
       "      <td>143131</td>\n",
       "      <td>4</td>\n",
       "    </tr>\n",
       "  </tbody>\n",
       "</table>\n",
       "</div>"
      ],
      "text/plain": [
       "   Store_Ratio  Basket_Ratio  Category_1  Store_Score  Category_2  \\\n",
       "0        0.407       0.00380           2      -35.865           1   \n",
       "1        0.234       0.10500           0      -19.884           1   \n",
       "2        0.668       0.72600           9       -7.512           1   \n",
       "3        0.184       0.00561           4      -34.357           1   \n",
       "4        0.231       0.13100           6      -22.842           1   \n",
       "5        0.756       0.60900           3       -7.927           1   \n",
       "6        0.398       0.03360          10      -30.369           1   \n",
       "7        0.717       0.69900           5       -5.665           0   \n",
       "8        0.419       0.57400           4      -12.221           0   \n",
       "9        0.705       0.22100           3      -11.474           0   \n",
       "\n",
       "   Store_Presence  Score_1  Score_2  Score_3  Score_4    time  popularity  \n",
       "0          0.9920  0.94400   0.0988   0.1100  113.911  189125           4  \n",
       "1          0.9440  0.90000   0.1290   0.0382   76.332  186513           4  \n",
       "2          0.0387  0.00000   0.1340   0.4530  124.075  172143           4  \n",
       "3          0.8490  0.93100   0.1110   0.0641   79.037  184000           5  \n",
       "4          0.9370  0.00000   0.1090   0.0677  109.560  186507           3  \n",
       "5          0.2170  0.00474   0.0960   0.5370  117.023  155720           4  \n",
       "6          0.9960  0.96200   0.1300   0.6120   72.166  134500           4  \n",
       "7          0.2230  0.00000   0.1390   0.6890  100.147  186600           4  \n",
       "8          0.1020  0.46200   0.8950   0.3450  129.260  685880           4  \n",
       "9          0.9380  0.90600   0.1110   0.3840   84.962  143131           4  "
      ]
     },
     "execution_count": 4,
     "metadata": {},
     "output_type": "execute_result"
    }
   ],
   "source": [
    "train.head(10)"
   ]
  },
  {
   "cell_type": "code",
   "execution_count": 33,
   "metadata": {},
   "outputs": [],
   "source": [
    "# Adding total_score feature by summing score_1,score_2,score_3,score_4\n",
    "new_data=train"
   ]
  },
  {
   "cell_type": "code",
   "execution_count": 34,
   "metadata": {},
   "outputs": [
    {
     "data": {
      "text/html": [
       "<div>\n",
       "<style scoped>\n",
       "    .dataframe tbody tr th:only-of-type {\n",
       "        vertical-align: middle;\n",
       "    }\n",
       "\n",
       "    .dataframe tbody tr th {\n",
       "        vertical-align: top;\n",
       "    }\n",
       "\n",
       "    .dataframe thead th {\n",
       "        text-align: right;\n",
       "    }\n",
       "</style>\n",
       "<table border=\"1\" class=\"dataframe\">\n",
       "  <thead>\n",
       "    <tr style=\"text-align: right;\">\n",
       "      <th></th>\n",
       "      <th>Store_Ratio</th>\n",
       "      <th>Basket_Ratio</th>\n",
       "      <th>Category_1</th>\n",
       "      <th>Store_Score</th>\n",
       "      <th>Category_2</th>\n",
       "      <th>Store_Presence</th>\n",
       "      <th>Score_1</th>\n",
       "      <th>Score_2</th>\n",
       "      <th>Score_3</th>\n",
       "      <th>Score_4</th>\n",
       "      <th>time</th>\n",
       "      <th>popularity</th>\n",
       "      <th>total_score</th>\n",
       "    </tr>\n",
       "  </thead>\n",
       "  <tbody>\n",
       "    <tr>\n",
       "      <th>0</th>\n",
       "      <td>0.407</td>\n",
       "      <td>0.00380</td>\n",
       "      <td>2</td>\n",
       "      <td>-35.865</td>\n",
       "      <td>1</td>\n",
       "      <td>0.9920</td>\n",
       "      <td>0.94400</td>\n",
       "      <td>0.0988</td>\n",
       "      <td>0.1100</td>\n",
       "      <td>113.911</td>\n",
       "      <td>189125</td>\n",
       "      <td>4</td>\n",
       "      <td>115.06380</td>\n",
       "    </tr>\n",
       "    <tr>\n",
       "      <th>1</th>\n",
       "      <td>0.234</td>\n",
       "      <td>0.10500</td>\n",
       "      <td>0</td>\n",
       "      <td>-19.884</td>\n",
       "      <td>1</td>\n",
       "      <td>0.9440</td>\n",
       "      <td>0.90000</td>\n",
       "      <td>0.1290</td>\n",
       "      <td>0.0382</td>\n",
       "      <td>76.332</td>\n",
       "      <td>186513</td>\n",
       "      <td>4</td>\n",
       "      <td>77.39920</td>\n",
       "    </tr>\n",
       "    <tr>\n",
       "      <th>2</th>\n",
       "      <td>0.668</td>\n",
       "      <td>0.72600</td>\n",
       "      <td>9</td>\n",
       "      <td>-7.512</td>\n",
       "      <td>1</td>\n",
       "      <td>0.0387</td>\n",
       "      <td>0.00000</td>\n",
       "      <td>0.1340</td>\n",
       "      <td>0.4530</td>\n",
       "      <td>124.075</td>\n",
       "      <td>172143</td>\n",
       "      <td>4</td>\n",
       "      <td>124.66200</td>\n",
       "    </tr>\n",
       "    <tr>\n",
       "      <th>3</th>\n",
       "      <td>0.184</td>\n",
       "      <td>0.00561</td>\n",
       "      <td>4</td>\n",
       "      <td>-34.357</td>\n",
       "      <td>1</td>\n",
       "      <td>0.8490</td>\n",
       "      <td>0.93100</td>\n",
       "      <td>0.1110</td>\n",
       "      <td>0.0641</td>\n",
       "      <td>79.037</td>\n",
       "      <td>184000</td>\n",
       "      <td>5</td>\n",
       "      <td>80.14310</td>\n",
       "    </tr>\n",
       "    <tr>\n",
       "      <th>4</th>\n",
       "      <td>0.231</td>\n",
       "      <td>0.13100</td>\n",
       "      <td>6</td>\n",
       "      <td>-22.842</td>\n",
       "      <td>1</td>\n",
       "      <td>0.9370</td>\n",
       "      <td>0.00000</td>\n",
       "      <td>0.1090</td>\n",
       "      <td>0.0677</td>\n",
       "      <td>109.560</td>\n",
       "      <td>186507</td>\n",
       "      <td>3</td>\n",
       "      <td>109.73670</td>\n",
       "    </tr>\n",
       "    <tr>\n",
       "      <th>5</th>\n",
       "      <td>0.756</td>\n",
       "      <td>0.60900</td>\n",
       "      <td>3</td>\n",
       "      <td>-7.927</td>\n",
       "      <td>1</td>\n",
       "      <td>0.2170</td>\n",
       "      <td>0.00474</td>\n",
       "      <td>0.0960</td>\n",
       "      <td>0.5370</td>\n",
       "      <td>117.023</td>\n",
       "      <td>155720</td>\n",
       "      <td>4</td>\n",
       "      <td>117.66074</td>\n",
       "    </tr>\n",
       "    <tr>\n",
       "      <th>6</th>\n",
       "      <td>0.398</td>\n",
       "      <td>0.03360</td>\n",
       "      <td>10</td>\n",
       "      <td>-30.369</td>\n",
       "      <td>1</td>\n",
       "      <td>0.9960</td>\n",
       "      <td>0.96200</td>\n",
       "      <td>0.1300</td>\n",
       "      <td>0.6120</td>\n",
       "      <td>72.166</td>\n",
       "      <td>134500</td>\n",
       "      <td>4</td>\n",
       "      <td>73.87000</td>\n",
       "    </tr>\n",
       "    <tr>\n",
       "      <th>7</th>\n",
       "      <td>0.717</td>\n",
       "      <td>0.69900</td>\n",
       "      <td>5</td>\n",
       "      <td>-5.665</td>\n",
       "      <td>0</td>\n",
       "      <td>0.2230</td>\n",
       "      <td>0.00000</td>\n",
       "      <td>0.1390</td>\n",
       "      <td>0.6890</td>\n",
       "      <td>100.147</td>\n",
       "      <td>186600</td>\n",
       "      <td>4</td>\n",
       "      <td>100.97500</td>\n",
       "    </tr>\n",
       "    <tr>\n",
       "      <th>8</th>\n",
       "      <td>0.419</td>\n",
       "      <td>0.57400</td>\n",
       "      <td>4</td>\n",
       "      <td>-12.221</td>\n",
       "      <td>0</td>\n",
       "      <td>0.1020</td>\n",
       "      <td>0.46200</td>\n",
       "      <td>0.8950</td>\n",
       "      <td>0.3450</td>\n",
       "      <td>129.260</td>\n",
       "      <td>685880</td>\n",
       "      <td>4</td>\n",
       "      <td>130.96200</td>\n",
       "    </tr>\n",
       "    <tr>\n",
       "      <th>9</th>\n",
       "      <td>0.705</td>\n",
       "      <td>0.22100</td>\n",
       "      <td>3</td>\n",
       "      <td>-11.474</td>\n",
       "      <td>0</td>\n",
       "      <td>0.9380</td>\n",
       "      <td>0.90600</td>\n",
       "      <td>0.1110</td>\n",
       "      <td>0.3840</td>\n",
       "      <td>84.962</td>\n",
       "      <td>143131</td>\n",
       "      <td>4</td>\n",
       "      <td>86.36300</td>\n",
       "    </tr>\n",
       "  </tbody>\n",
       "</table>\n",
       "</div>"
      ],
      "text/plain": [
       "   Store_Ratio  Basket_Ratio  Category_1  Store_Score  Category_2  \\\n",
       "0        0.407       0.00380           2      -35.865           1   \n",
       "1        0.234       0.10500           0      -19.884           1   \n",
       "2        0.668       0.72600           9       -7.512           1   \n",
       "3        0.184       0.00561           4      -34.357           1   \n",
       "4        0.231       0.13100           6      -22.842           1   \n",
       "5        0.756       0.60900           3       -7.927           1   \n",
       "6        0.398       0.03360          10      -30.369           1   \n",
       "7        0.717       0.69900           5       -5.665           0   \n",
       "8        0.419       0.57400           4      -12.221           0   \n",
       "9        0.705       0.22100           3      -11.474           0   \n",
       "\n",
       "   Store_Presence  Score_1  Score_2  Score_3  Score_4    time  popularity  \\\n",
       "0          0.9920  0.94400   0.0988   0.1100  113.911  189125           4   \n",
       "1          0.9440  0.90000   0.1290   0.0382   76.332  186513           4   \n",
       "2          0.0387  0.00000   0.1340   0.4530  124.075  172143           4   \n",
       "3          0.8490  0.93100   0.1110   0.0641   79.037  184000           5   \n",
       "4          0.9370  0.00000   0.1090   0.0677  109.560  186507           3   \n",
       "5          0.2170  0.00474   0.0960   0.5370  117.023  155720           4   \n",
       "6          0.9960  0.96200   0.1300   0.6120   72.166  134500           4   \n",
       "7          0.2230  0.00000   0.1390   0.6890  100.147  186600           4   \n",
       "8          0.1020  0.46200   0.8950   0.3450  129.260  685880           4   \n",
       "9          0.9380  0.90600   0.1110   0.3840   84.962  143131           4   \n",
       "\n",
       "   total_score  \n",
       "0    115.06380  \n",
       "1     77.39920  \n",
       "2    124.66200  \n",
       "3     80.14310  \n",
       "4    109.73670  \n",
       "5    117.66074  \n",
       "6     73.87000  \n",
       "7    100.97500  \n",
       "8    130.96200  \n",
       "9     86.36300  "
      ]
     },
     "execution_count": 34,
     "metadata": {},
     "output_type": "execute_result"
    }
   ],
   "source": [
    "new_data[\"total_score\"]=train[\"Score_1\"]+train[\"Score_2\"]+train[\"Score_3\"]+train[\"Score_4\"]\n",
    "new_data.head(10)"
   ]
  },
  {
   "cell_type": "code",
   "execution_count": 35,
   "metadata": {},
   "outputs": [
    {
     "name": "stdout",
     "output_type": "stream",
     "text": [
      "the shape of x_train (11652, 13)\n",
      "the shape of x_cv (2914, 13)\n",
      "the shape of x_test (3642, 13)\n"
     ]
    }
   ],
   "source": [
    "#splitting the data into train,test,cv\n",
    "x_train,x_test,y_train,y_test=train_test_split(new_data,new_data[\"popularity\"],test_size=0.2,random_state=1,stratify=train[\"popularity\"])\n",
    "x_train,x_cv,y_train,y_cv=train_test_split(x_train,y_train,test_size=0.2,random_state=1,stratify=y_train)\n",
    "print(\"the shape of x_train\",x_train.shape)\n",
    "print(\"the shape of x_cv\",x_cv.shape)\n",
    "print(\"the shape of x_test\",x_test.shape)"
   ]
  },
  {
   "cell_type": "markdown",
   "metadata": {},
   "source": [
    "# Applying the Random_forest\n"
   ]
  },
  {
   "cell_type": "code",
   "execution_count": 37,
   "metadata": {},
   "outputs": [
    {
     "name": "stderr",
     "output_type": "stream",
     "text": [
      "\u001b[32m[I 2021-03-17 15:26:10,914]\u001b[0m A new study created in memory with name: no-name-a96f97f5-c440-4654-8d2b-2d2f337fef46\u001b[0m\n",
      "\u001b[32m[I 2021-03-17 15:29:01,949]\u001b[0m Trial 0 finished with value: 0.3950156435869566 and parameters: {'n_estimators': 1000, 'max_depth': 45}. Best is trial 0 with value: 0.3950156435869566.\u001b[0m\n",
      "\u001b[32m[I 2021-03-17 15:30:50,221]\u001b[0m Trial 1 finished with value: 0.39497870883691044 and parameters: {'n_estimators': 1100, 'max_depth': 40}. Best is trial 1 with value: 0.39497870883691044.\u001b[0m\n",
      "\u001b[32m[I 2021-03-17 15:32:05,643]\u001b[0m Trial 2 finished with value: 0.39497870883691044 and parameters: {'n_estimators': 1100, 'max_depth': 40}. Best is trial 1 with value: 0.39497870883691044.\u001b[0m\n",
      "\u001b[32m[I 2021-03-17 15:33:31,403]\u001b[0m Trial 3 finished with value: 0.39504879331055676 and parameters: {'n_estimators': 1200, 'max_depth': 50}. Best is trial 1 with value: 0.39497870883691044.\u001b[0m\n",
      "\u001b[32m[I 2021-03-17 15:34:46,552]\u001b[0m Trial 4 finished with value: 0.39497870883691044 and parameters: {'n_estimators': 1100, 'max_depth': 50}. Best is trial 1 with value: 0.39497870883691044.\u001b[0m\n",
      "\u001b[32m[I 2021-03-17 15:36:20,629]\u001b[0m Trial 5 finished with value: 0.39504879331055676 and parameters: {'n_estimators': 1200, 'max_depth': 50}. Best is trial 1 with value: 0.39497870883691044.\u001b[0m\n"
     ]
    }
   ],
   "source": [
    "#Random_forest\n",
    "def objective(trial):\n",
    "      n_estimators = trial.suggest_categorical('n_estimators', [1000,1100,1200])\n",
    "      max_depth = trial.suggest_categorical('max_depth', [40,45,50])\n",
    "      clf =RandomForestClassifier(n_estimators=n_estimators,max_depth=max_depth,class_weight='balanced',random_state=1,n_jobs=-1)\n",
    "      clf.fit(x_train.drop([\"popularity\"],axis=1),y_train)\n",
    "      sig_clf=CalibratedClassifierCV(clf)\n",
    "      sig_clf.fit(x_train.drop([\"popularity\"],axis=1),y_train)\n",
    "      pred=sig_clf.predict_proba(x_cv.drop([\"popularity\"],axis=1))\n",
    "      return metrics.log_loss(y_cv,pred)\n",
    "study = optuna.create_study(direction='minimize')\n",
    "study.optimize(objective, n_trials=6)"
   ]
  },
  {
   "cell_type": "code",
   "execution_count": 10,
   "metadata": {},
   "outputs": [
    {
     "name": "stdout",
     "output_type": "stream",
     "text": [
      "loss of cv 0.39497870883691044\n",
      "loss of test 0.3876786582203133\n"
     ]
    }
   ],
   "source": [
    "#predicting with best hyperparameter\n",
    "clf=RandomForestClassifier(n_estimators=1100,max_depth=45,class_weight='balanced',random_state=1,n_jobs=-1)\n",
    "clf.fit(x_train.drop([\"popularity\"],axis=1),y_train)\n",
    "sig_clf=CalibratedClassifierCV(clf)\n",
    "sig_clf.fit(x_train.drop([\"popularity\"],axis=1),y_train)\n",
    "pred=sig_clf.predict_proba(x_cv.drop([\"popularity\"],axis=1))\n",
    "print(\"loss of cv\",metrics.log_loss(y_cv,pred))\n",
    "pred=sig_clf.predict_proba(x_test.drop([\"popularity\"],axis=1))\n",
    "print(\"loss of test\",metrics.log_loss(y_test,pred))\n"
   ]
  },
  {
   "cell_type": "code",
   "execution_count": 13,
   "metadata": {},
   "outputs": [
    {
     "data": {
      "image/png": "[encoded data removed]",
      "text/plain": [
       "<Figure size 1440x504 with 2 Axes>"
      ]
     },
     "metadata": {
      "needs_background": "light"
     },
     "output_type": "display_data"
    },
    {
     "name": "stdout",
     "output_type": "stream",
     "text": [
      "******************************\n",
      "Precision matrix\n"
     ]
    },
    {
     "data": {
      "image/png": "[encoded data removed]",
      "text/plain": [
       "<Figure size 432x288 with 2 Axes>"
      ]
     },
     "metadata": {
      "needs_background": "light"
     },
     "output_type": "display_data"
    },
    {
     "name": "stdout",
     "output_type": "stream",
     "text": [
      "******************************\n",
      "Recall matrix\n"
     ]
    },
    {
     "data": {
      "image/png": "[encoded data removed]",
      "text/plain": [
       "<Figure size 432x288 with 2 Axes>"
      ]
     },
     "metadata": {
      "needs_background": "light"
     },
     "output_type": "display_data"
    }
   ],
   "source": [
    "#plot the confusion on test data\n",
    "pred=sig_clf.predict(x_test.drop([\"popularity\"],axis=1))\n",
    "confusion_plot(y_test,pred)"
   ]
  },
  {
   "cell_type": "code",
   "execution_count": 38,
   "metadata": {},
   "outputs": [
    {
     "data": {
      "text/html": [
       "<div>\n",
       "<style scoped>\n",
       "    .dataframe tbody tr th:only-of-type {\n",
       "        vertical-align: middle;\n",
       "    }\n",
       "\n",
       "    .dataframe tbody tr th {\n",
       "        vertical-align: top;\n",
       "    }\n",
       "\n",
       "    .dataframe thead th {\n",
       "        text-align: right;\n",
       "    }\n",
       "</style>\n",
       "<table border=\"1\" class=\"dataframe\">\n",
       "  <thead>\n",
       "    <tr style=\"text-align: right;\">\n",
       "      <th></th>\n",
       "      <th>Store_Ratio</th>\n",
       "      <th>Basket_Ratio</th>\n",
       "      <th>Category_1</th>\n",
       "      <th>Store_Score</th>\n",
       "      <th>Category_2</th>\n",
       "      <th>Store_Presence</th>\n",
       "      <th>Score_1</th>\n",
       "      <th>Score_2</th>\n",
       "      <th>Score_3</th>\n",
       "      <th>Score_4</th>\n",
       "      <th>time</th>\n",
       "      <th>popularity</th>\n",
       "      <th>total_score</th>\n",
       "    </tr>\n",
       "  </thead>\n",
       "  <tbody>\n",
       "    <tr>\n",
       "      <th>0</th>\n",
       "      <td>0.407</td>\n",
       "      <td>0.00380</td>\n",
       "      <td>2</td>\n",
       "      <td>-35.865</td>\n",
       "      <td>1</td>\n",
       "      <td>0.9920</td>\n",
       "      <td>0.944000</td>\n",
       "      <td>0.0988</td>\n",
       "      <td>0.1100</td>\n",
       "      <td>113.911</td>\n",
       "      <td>189125</td>\n",
       "      <td>4</td>\n",
       "      <td>115.063800</td>\n",
       "    </tr>\n",
       "    <tr>\n",
       "      <th>1</th>\n",
       "      <td>0.234</td>\n",
       "      <td>0.10500</td>\n",
       "      <td>0</td>\n",
       "      <td>-19.884</td>\n",
       "      <td>1</td>\n",
       "      <td>0.9440</td>\n",
       "      <td>0.900000</td>\n",
       "      <td>0.1290</td>\n",
       "      <td>0.0382</td>\n",
       "      <td>76.332</td>\n",
       "      <td>186513</td>\n",
       "      <td>4</td>\n",
       "      <td>77.399200</td>\n",
       "    </tr>\n",
       "    <tr>\n",
       "      <th>2</th>\n",
       "      <td>0.668</td>\n",
       "      <td>0.72600</td>\n",
       "      <td>9</td>\n",
       "      <td>-7.512</td>\n",
       "      <td>1</td>\n",
       "      <td>0.0387</td>\n",
       "      <td>0.000000</td>\n",
       "      <td>0.1340</td>\n",
       "      <td>0.4530</td>\n",
       "      <td>124.075</td>\n",
       "      <td>172143</td>\n",
       "      <td>4</td>\n",
       "      <td>124.662000</td>\n",
       "    </tr>\n",
       "    <tr>\n",
       "      <th>3</th>\n",
       "      <td>0.184</td>\n",
       "      <td>0.00561</td>\n",
       "      <td>4</td>\n",
       "      <td>-34.357</td>\n",
       "      <td>1</td>\n",
       "      <td>0.8490</td>\n",
       "      <td>0.931000</td>\n",
       "      <td>0.1110</td>\n",
       "      <td>0.0641</td>\n",
       "      <td>79.037</td>\n",
       "      <td>184000</td>\n",
       "      <td>5</td>\n",
       "      <td>80.143100</td>\n",
       "    </tr>\n",
       "    <tr>\n",
       "      <th>4</th>\n",
       "      <td>0.231</td>\n",
       "      <td>0.13100</td>\n",
       "      <td>6</td>\n",
       "      <td>-22.842</td>\n",
       "      <td>1</td>\n",
       "      <td>0.9370</td>\n",
       "      <td>0.000000</td>\n",
       "      <td>0.1090</td>\n",
       "      <td>0.0677</td>\n",
       "      <td>109.560</td>\n",
       "      <td>186507</td>\n",
       "      <td>3</td>\n",
       "      <td>109.736700</td>\n",
       "    </tr>\n",
       "    <tr>\n",
       "      <th>...</th>\n",
       "      <td>...</td>\n",
       "      <td>...</td>\n",
       "      <td>...</td>\n",
       "      <td>...</td>\n",
       "      <td>...</td>\n",
       "      <td>...</td>\n",
       "      <td>...</td>\n",
       "      <td>...</td>\n",
       "      <td>...</td>\n",
       "      <td>...</td>\n",
       "      <td>...</td>\n",
       "      <td>...</td>\n",
       "      <td>...</td>\n",
       "    </tr>\n",
       "    <tr>\n",
       "      <th>18203</th>\n",
       "      <td>0.403</td>\n",
       "      <td>0.28100</td>\n",
       "      <td>6</td>\n",
       "      <td>-10.365</td>\n",
       "      <td>0</td>\n",
       "      <td>0.4540</td>\n",
       "      <td>0.000000</td>\n",
       "      <td>0.1060</td>\n",
       "      <td>0.1820</td>\n",
       "      <td>112.881</td>\n",
       "      <td>232880</td>\n",
       "      <td>4</td>\n",
       "      <td>113.169000</td>\n",
       "    </tr>\n",
       "    <tr>\n",
       "      <th>18204</th>\n",
       "      <td>0.481</td>\n",
       "      <td>0.01140</td>\n",
       "      <td>4</td>\n",
       "      <td>-26.196</td>\n",
       "      <td>1</td>\n",
       "      <td>0.9910</td>\n",
       "      <td>0.967000</td>\n",
       "      <td>0.0985</td>\n",
       "      <td>0.3430</td>\n",
       "      <td>57.748</td>\n",
       "      <td>155500</td>\n",
       "      <td>4</td>\n",
       "      <td>59.156500</td>\n",
       "    </tr>\n",
       "    <tr>\n",
       "      <th>18205</th>\n",
       "      <td>0.168</td>\n",
       "      <td>0.00908</td>\n",
       "      <td>5</td>\n",
       "      <td>-33.966</td>\n",
       "      <td>0</td>\n",
       "      <td>0.9470</td>\n",
       "      <td>0.946000</td>\n",
       "      <td>0.1250</td>\n",
       "      <td>0.3960</td>\n",
       "      <td>68.775</td>\n",
       "      <td>172500</td>\n",
       "      <td>4</td>\n",
       "      <td>70.242000</td>\n",
       "    </tr>\n",
       "    <tr>\n",
       "      <th>18206</th>\n",
       "      <td>0.598</td>\n",
       "      <td>0.65800</td>\n",
       "      <td>1</td>\n",
       "      <td>-7.159</td>\n",
       "      <td>0</td>\n",
       "      <td>0.3890</td>\n",
       "      <td>0.000000</td>\n",
       "      <td>0.5820</td>\n",
       "      <td>0.4730</td>\n",
       "      <td>106.807</td>\n",
       "      <td>152558</td>\n",
       "      <td>4</td>\n",
       "      <td>107.862000</td>\n",
       "    </tr>\n",
       "    <tr>\n",
       "      <th>18207</th>\n",
       "      <td>0.582</td>\n",
       "      <td>0.32400</td>\n",
       "      <td>2</td>\n",
       "      <td>-10.284</td>\n",
       "      <td>1</td>\n",
       "      <td>0.8070</td>\n",
       "      <td>0.000034</td>\n",
       "      <td>0.1500</td>\n",
       "      <td>0.2490</td>\n",
       "      <td>88.755</td>\n",
       "      <td>237293</td>\n",
       "      <td>3</td>\n",
       "      <td>89.154034</td>\n",
       "    </tr>\n",
       "  </tbody>\n",
       "</table>\n",
       "<p>18208 rows × 13 columns</p>\n",
       "</div>"
      ],
      "text/plain": [
       "       Store_Ratio  Basket_Ratio  Category_1  Store_Score  Category_2  \\\n",
       "0            0.407       0.00380           2      -35.865           1   \n",
       "1            0.234       0.10500           0      -19.884           1   \n",
       "2            0.668       0.72600           9       -7.512           1   \n",
       "3            0.184       0.00561           4      -34.357           1   \n",
       "4            0.231       0.13100           6      -22.842           1   \n",
       "...            ...           ...         ...          ...         ...   \n",
       "18203        0.403       0.28100           6      -10.365           0   \n",
       "18204        0.481       0.01140           4      -26.196           1   \n",
       "18205        0.168       0.00908           5      -33.966           0   \n",
       "18206        0.598       0.65800           1       -7.159           0   \n",
       "18207        0.582       0.32400           2      -10.284           1   \n",
       "\n",
       "       Store_Presence   Score_1  Score_2  Score_3  Score_4    time  \\\n",
       "0              0.9920  0.944000   0.0988   0.1100  113.911  189125   \n",
       "1              0.9440  0.900000   0.1290   0.0382   76.332  186513   \n",
       "2              0.0387  0.000000   0.1340   0.4530  124.075  172143   \n",
       "3              0.8490  0.931000   0.1110   0.0641   79.037  184000   \n",
       "4              0.9370  0.000000   0.1090   0.0677  109.560  186507   \n",
       "...               ...       ...      ...      ...      ...     ...   \n",
       "18203          0.4540  0.000000   0.1060   0.1820  112.881  232880   \n",
       "18204          0.9910  0.967000   0.0985   0.3430   57.748  155500   \n",
       "18205          0.9470  0.946000   0.1250   0.3960   68.775  172500   \n",
       "18206          0.3890  0.000000   0.5820   0.4730  106.807  152558   \n",
       "18207          0.8070  0.000034   0.1500   0.2490   88.755  237293   \n",
       "\n",
       "       popularity  total_score  \n",
       "0               4   115.063800  \n",
       "1               4    77.399200  \n",
       "2               4   124.662000  \n",
       "3               5    80.143100  \n",
       "4               3   109.736700  \n",
       "...           ...          ...  \n",
       "18203           4   113.169000  \n",
       "18204           4    59.156500  \n",
       "18205           4    70.242000  \n",
       "18206           4   107.862000  \n",
       "18207           3    89.154034  \n",
       "\n",
       "[18208 rows x 13 columns]"
      ]
     },
     "execution_count": 38,
     "metadata": {},
     "output_type": "execute_result"
    }
   ],
   "source": [
    "#Creating the final model \n"
   ]
  },
  {
   "cell_type": "code",
   "execution_count": 40,
   "metadata": {},
   "outputs": [
    {
     "name": "stdout",
     "output_type": "stream",
     "text": [
      "loss of test 0.08952012214342818\n"
     ]
    }
   ],
   "source": [
    "#predicting with best hyperparameter\n",
    "clf=RandomForestClassifier(n_estimators=1100,max_depth=45,class_weight='balanced',random_state=1,n_jobs=-1)\n",
    "clf.fit(new_data.drop([\"popularity\"],axis=1),new_data[\"popularity\"])\n",
    "sig_clf=CalibratedClassifierCV(clf)\n",
    "sig_clf.fit(new_data.drop([\"popularity\"],axis=1),new_data[\"popularity\"])\n",
    "pred=sig_clf.predict_proba(new_data.drop([\"popularity\"],axis=1))\n",
    "print(\"loss of test\",metrics.log_loss(new_data[\"popularity\"],pred))\n"
   ]
  },
  {
   "cell_type": "code",
   "execution_count": 41,
   "metadata": {},
   "outputs": [
    {
     "data": {
      "image/png": "[encoded data removed]",
      "text/plain": [
       "<Figure size 1440x504 with 2 Axes>"
      ]
     },
     "metadata": {
      "needs_background": "light"
     },
     "output_type": "display_data"
    },
    {
     "name": "stdout",
     "output_type": "stream",
     "text": [
      "******************************\n",
      "Precision matrix\n"
     ]
    },
    {
     "data": {
      "image/png": "[encoded data removed]",
      "text/plain": [
       "<Figure size 432x288 with 2 Axes>"
      ]
     },
     "metadata": {
      "needs_background": "light"
     },
     "output_type": "display_data"
    },
    {
     "name": "stdout",
     "output_type": "stream",
     "text": [
      "******************************\n",
      "Recall matrix\n"
     ]
    },
    {
     "data": {
      "image/png": "[encoded data removed]",
      "text/plain": [
       "<Figure size 432x288 with 2 Axes>"
      ]
     },
     "metadata": {
      "needs_background": "light"
     },
     "output_type": "display_data"
    }
   ],
   "source": [
    "#plot the confusion \n",
    "pred=sig_clf.predict(new_data.drop([\"popularity\"],axis=1))\n",
    "confusion_plot(new_data[\"popularity\"],pred)"
   ]
  },
  {
   "cell_type": "code",
   "execution_count": null,
   "metadata": {},
   "outputs": [],
   "source": []
  }
 ],
 "metadata": {
  "kernelspec": {
   "display_name": "Python 3",
   "language": "python",
   "name": "python3"
  },
  "language_info": {
   "codemirror_mode": {
    "name": "ipython",
    "version": 3
   },
   "file_extension": ".py",
   "mimetype": "text/x-python",
   "name": "python",
   "nbconvert_exporter": "python",
   "pygments_lexer": "ipython3",
   "version": "3.8.3"
  }
 },
 "nbformat": 4,
 "nbformat_minor": 4
}
